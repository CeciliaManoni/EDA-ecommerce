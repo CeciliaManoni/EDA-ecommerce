{
 "cells": [
  {
   "cell_type": "markdown",
   "metadata": {
    "id": "UL3SoY1M6HQE"
   },
   "source": [
    "Importar librerías"
   ]
  },
  {
   "cell_type": "code",
   "execution_count": 4,
   "metadata": {
    "id": "66MSrzmt0Pww"
   },
   "outputs": [
    {
     "name": "stdout",
     "output_type": "stream",
     "text": [
      "Requirement already satisfied: pyarrow in c:\\users\\cecim\\anaconda3\\lib\\site-packages (3.0.0)\n",
      "Requirement already satisfied: numpy>=1.16.6 in c:\\users\\cecim\\anaconda3\\lib\\site-packages (from pyarrow) (1.19.2)\n"
     ]
    }
   ],
   "source": [
    "import pandas as pd\n",
    "import numpy as np\n",
    "import matplotlib.pyplot as plt\n",
    "import seaborn as sns\n",
    "import plotly.express as px\n",
    "pd.set_option('display.float_format', lambda x: '%.3f' % x)"
   ]
  },
  {
   "cell_type": "code",
   "execution_count": 3,
   "metadata": {
    "colab": {
     "base_uri": "https://localhost:8080/"
    },
    "id": "u7c9Xdmu8TYx",
    "outputId": "67a92ab4-d29a-4514-a4f8-1b4d2ad8cd14"
   },
   "outputs": [
    {
     "name": "stdout",
     "output_type": "stream",
     "text": [
      "^C\n",
      "Note: you may need to restart the kernel to use updated packages.\n"
     ]
    }
   ],
   "source": [
    "pip install pyarrow"
   ]
  },
  {
   "cell_type": "markdown",
   "metadata": {
    "id": "ngEGzA1z6Mce"
   },
   "source": [
    "# Analisis de Churn para empresa de e-commerce"
   ]
  },
  {
   "cell_type": "markdown",
   "metadata": {
    "id": "3ACAxlHCZ4m6"
   },
   "source": [
    "## Objetivo:\n",
    "\n",
    "¿Cuántas personas llenan el carrito de la compra de un e-commerce y se van sin comprar nada? ¿Por qué es importante conocer esta métrica? ¿Cómo conseguir que compren los artículos en los que se habían interesado?\n",
    "\n",
    "La tasa de abandono de los carritos, también conocida como Churn Rate, es uno de los datos más importantes en el análisis de un e-commerce, ya que nos informa del porcentaje de personas que se interesan por alguno de nuestros productos, pero finalmente no realiza ninguna conversión.\n",
    "Para calcularlo matemáticamente debemos poner en marcha la siguiente métrica\n",
    "\n",
    "Tasa de abandono del carrito = (Número de visitas que han añadido al menos un producto al carrito y no han comprado / Total de visitas que han añadido al menos un producto al carrito) x 100"
   ]
  },
  {
   "cell_type": "markdown",
   "metadata": {
    "id": "ZjSMcrlqJxmt"
   },
   "source": [
    "## Lectura del dataset"
   ]
  },
  {
   "cell_type": "code",
   "execution_count": 5,
   "metadata": {
    "id": "iCQSnK2e6E93"
   },
   "outputs": [],
   "source": [
    "df = pd.read_parquet('data-ecomm-10-19-smallsampled.parquet', engine='pyarrow')"
   ]
  },
  {
   "cell_type": "code",
   "execution_count": 17,
   "metadata": {
    "id": "7Y7cbFlAVINv"
   },
   "outputs": [],
   "source": [
    "df = pd.read_parquet('/content/drive/MyDrive/Diplomatura Data Science/datasets/data-ecomm-10-19-smallsampled.parquet', engine='pyarrow')"
   ]
  },
  {
   "cell_type": "markdown",
   "metadata": {
    "id": "Jz5xGUk0fXhn"
   },
   "source": [
    "## Recolección de datos y primer análisis"
   ]
  },
  {
   "cell_type": "code",
   "execution_count": 6,
   "metadata": {
    "colab": {
     "base_uri": "https://localhost:8080/",
     "height": 289
    },
    "id": "hSHhuyoTDu5f",
    "outputId": "e14f8936-187e-4d09-fa04-a9d62686c7e5"
   },
   "outputs": [
    {
     "data": {
      "text/html": [
       "<div>\n",
       "<style scoped>\n",
       "    .dataframe tbody tr th:only-of-type {\n",
       "        vertical-align: middle;\n",
       "    }\n",
       "\n",
       "    .dataframe tbody tr th {\n",
       "        vertical-align: top;\n",
       "    }\n",
       "\n",
       "    .dataframe thead th {\n",
       "        text-align: right;\n",
       "    }\n",
       "</style>\n",
       "<table border=\"1\" class=\"dataframe\">\n",
       "  <thead>\n",
       "    <tr style=\"text-align: right;\">\n",
       "      <th></th>\n",
       "      <th>event_time</th>\n",
       "      <th>event_type</th>\n",
       "      <th>product_id</th>\n",
       "      <th>category_id</th>\n",
       "      <th>category_code</th>\n",
       "      <th>brand</th>\n",
       "      <th>price</th>\n",
       "      <th>user_id</th>\n",
       "      <th>user_session</th>\n",
       "    </tr>\n",
       "  </thead>\n",
       "  <tbody>\n",
       "    <tr>\n",
       "      <th>39054315</th>\n",
       "      <td>2019-10-29 07:06:41 UTC</td>\n",
       "      <td>view</td>\n",
       "      <td>1004767</td>\n",
       "      <td>2053013555631882655</td>\n",
       "      <td>electronics.smartphone</td>\n",
       "      <td>samsung</td>\n",
       "      <td>243.220</td>\n",
       "      <td>564343135</td>\n",
       "      <td>76be743b-f5cd-47a2-82eb-b489597df6ba</td>\n",
       "    </tr>\n",
       "    <tr>\n",
       "      <th>2640418</th>\n",
       "      <td>2019-10-03 06:05:30 UTC</td>\n",
       "      <td>view</td>\n",
       "      <td>26020177</td>\n",
       "      <td>2053013562644759347</td>\n",
       "      <td>None</td>\n",
       "      <td>None</td>\n",
       "      <td>9.050</td>\n",
       "      <td>529412421</td>\n",
       "      <td>0ee743f2-1a41-4e6f-8d8e-cd38135032a0</td>\n",
       "    </tr>\n",
       "    <tr>\n",
       "      <th>24303444</th>\n",
       "      <td>2019-10-18 14:21:55 UTC</td>\n",
       "      <td>view</td>\n",
       "      <td>1307059</td>\n",
       "      <td>2053013558920217191</td>\n",
       "      <td>computers.notebook</td>\n",
       "      <td>apple</td>\n",
       "      <td>1569.920</td>\n",
       "      <td>549727626</td>\n",
       "      <td>022640cb-f45a-4e76-9ade-3eeec65d7837</td>\n",
       "    </tr>\n",
       "    <tr>\n",
       "      <th>16337102</th>\n",
       "      <td>2019-10-13 08:46:22 UTC</td>\n",
       "      <td>view</td>\n",
       "      <td>12709948</td>\n",
       "      <td>2053013553559896355</td>\n",
       "      <td>None</td>\n",
       "      <td>triangle</td>\n",
       "      <td>36.940</td>\n",
       "      <td>550305198</td>\n",
       "      <td>56ef2383-4c9d-4475-adcd-d4eeb4205fde</td>\n",
       "    </tr>\n",
       "    <tr>\n",
       "      <th>41227753</th>\n",
       "      <td>2019-10-31 02:05:01 UTC</td>\n",
       "      <td>view</td>\n",
       "      <td>1005160</td>\n",
       "      <td>2053013555631882655</td>\n",
       "      <td>electronics.smartphone</td>\n",
       "      <td>xiaomi</td>\n",
       "      <td>212.120</td>\n",
       "      <td>535374900</td>\n",
       "      <td>a4ee5bfa-3824-4f66-87fb-0d0ae358f307</td>\n",
       "    </tr>\n",
       "  </tbody>\n",
       "</table>\n",
       "</div>"
      ],
      "text/plain": [
       "                       event_time event_type  product_id          category_id  \\\n",
       "39054315  2019-10-29 07:06:41 UTC       view     1004767  2053013555631882655   \n",
       "2640418   2019-10-03 06:05:30 UTC       view    26020177  2053013562644759347   \n",
       "24303444  2019-10-18 14:21:55 UTC       view     1307059  2053013558920217191   \n",
       "16337102  2019-10-13 08:46:22 UTC       view    12709948  2053013553559896355   \n",
       "41227753  2019-10-31 02:05:01 UTC       view     1005160  2053013555631882655   \n",
       "\n",
       "                   category_code     brand    price    user_id  \\\n",
       "39054315  electronics.smartphone   samsung  243.220  564343135   \n",
       "2640418                     None      None    9.050  529412421   \n",
       "24303444      computers.notebook     apple 1569.920  549727626   \n",
       "16337102                    None  triangle   36.940  550305198   \n",
       "41227753  electronics.smartphone    xiaomi  212.120  535374900   \n",
       "\n",
       "                                  user_session  \n",
       "39054315  76be743b-f5cd-47a2-82eb-b489597df6ba  \n",
       "2640418   0ee743f2-1a41-4e6f-8d8e-cd38135032a0  \n",
       "24303444  022640cb-f45a-4e76-9ade-3eeec65d7837  \n",
       "16337102  56ef2383-4c9d-4475-adcd-d4eeb4205fde  \n",
       "41227753  a4ee5bfa-3824-4f66-87fb-0d0ae358f307  "
      ]
     },
     "execution_count": 6,
     "metadata": {},
     "output_type": "execute_result"
    }
   ],
   "source": [
    "df.head()"
   ]
  },
  {
   "cell_type": "code",
   "execution_count": 7,
   "metadata": {
    "colab": {
     "base_uri": "https://localhost:8080/"
    },
    "id": "8tpMwytYfa95",
    "outputId": "f9a3fac5-cc6d-4297-ca80-094fdad49b81"
   },
   "outputs": [
    {
     "data": {
      "text/plain": [
       "view       0.921\n",
       "purchase   0.040\n",
       "cart       0.039\n",
       "Name: event_type, dtype: float64"
      ]
     },
     "execution_count": 7,
     "metadata": {},
     "output_type": "execute_result"
    }
   ],
   "source": [
    "df['event_type'].value_counts(normalize=True)"
   ]
  },
  {
   "cell_type": "code",
   "execution_count": 8,
   "metadata": {
    "colab": {
     "base_uri": "https://localhost:8080/",
     "height": 410
    },
    "id": "JF-E3gyAZip2",
    "outputId": "93ad1155-3c66-474c-85a5-23134a115eaa"
   },
   "outputs": [
    {
     "data": {
      "image/png": "[encoded data removed]",
      "text/plain": [
       "<Figure size 432x432 with 1 Axes>"
      ]
     },
     "metadata": {
      "needs_background": "light"
     },
     "output_type": "display_data"
    }
   ],
   "source": [
    "fig, ax = plt.subplots(figsize = (6, 6))\n",
    "sns.set_context(\"notebook\")\n",
    "sns.countplot(x=\"event_type\", data=df)\n",
    "ax.set_title('Frecuencia de cada tipo de evento')\n",
    "plt.ticklabel_format(style='plain', axis='y',useOffset=False)\n"
   ]
  },
  {
   "cell_type": "code",
   "execution_count": null,
   "metadata": {
    "colab": {
     "base_uri": "https://localhost:8080/",
     "height": 767
    },
    "id": "foTq4y4afbus",
    "outputId": "29cb1059-afc9-4a91-d40f-50f67ee398f3"
   },
   "outputs": [
    {
     "data": {
      "image/png": "[encoded data removed]",
      "text/plain": [
       "<Figure size 576x864 with 2 Axes>"
      ]
     },
     "metadata": {
      "needs_background": "light",
      "tags": []
     },
     "output_type": "display_data"
    }
   ],
   "source": [
    "fig, ax = plt.subplots(figsize = (8, 12))\n",
    "ax = sns.heatmap(df.isnull())"
   ]
  },
  {
   "cell_type": "code",
   "execution_count": 9,
   "metadata": {
    "colab": {
     "base_uri": "https://localhost:8080/",
     "height": 171
    },
    "id": "hoxJO1ufXf8j",
    "outputId": "ca40d66b-8ce8-4f76-be08-46ceec751f53"
   },
   "outputs": [
    {
     "data": {
      "text/html": [
       "<div>\n",
       "<style scoped>\n",
       "    .dataframe tbody tr th:only-of-type {\n",
       "        vertical-align: middle;\n",
       "    }\n",
       "\n",
       "    .dataframe tbody tr th {\n",
       "        vertical-align: top;\n",
       "    }\n",
       "\n",
       "    .dataframe thead th {\n",
       "        text-align: right;\n",
       "    }\n",
       "</style>\n",
       "<table border=\"1\" class=\"dataframe\">\n",
       "  <thead>\n",
       "    <tr style=\"text-align: right;\">\n",
       "      <th></th>\n",
       "      <th>count</th>\n",
       "      <th>mean</th>\n",
       "      <th>std</th>\n",
       "      <th>min</th>\n",
       "      <th>25%</th>\n",
       "      <th>50%</th>\n",
       "      <th>75%</th>\n",
       "      <th>max</th>\n",
       "    </tr>\n",
       "    <tr>\n",
       "      <th>event_type</th>\n",
       "      <th></th>\n",
       "      <th></th>\n",
       "      <th></th>\n",
       "      <th></th>\n",
       "      <th></th>\n",
       "      <th></th>\n",
       "      <th></th>\n",
       "      <th></th>\n",
       "    </tr>\n",
       "  </thead>\n",
       "  <tbody>\n",
       "    <tr>\n",
       "      <th>cart</th>\n",
       "      <td>237171.000</td>\n",
       "      <td>335.177</td>\n",
       "      <td>350.372</td>\n",
       "      <td>0.000</td>\n",
       "      <td>130.990</td>\n",
       "      <td>197.120</td>\n",
       "      <td>398.770</td>\n",
       "      <td>2574.040</td>\n",
       "    </tr>\n",
       "    <tr>\n",
       "      <th>purchase</th>\n",
       "      <td>241594.000</td>\n",
       "      <td>309.106</td>\n",
       "      <td>349.393</td>\n",
       "      <td>0.790</td>\n",
       "      <td>87.260</td>\n",
       "      <td>179.260</td>\n",
       "      <td>373.210</td>\n",
       "      <td>2574.070</td>\n",
       "    </tr>\n",
       "    <tr>\n",
       "      <th>view</th>\n",
       "      <td>5605452.000</td>\n",
       "      <td>276.465</td>\n",
       "      <td>346.521</td>\n",
       "      <td>0.000</td>\n",
       "      <td>61.780</td>\n",
       "      <td>154.160</td>\n",
       "      <td>334.340</td>\n",
       "      <td>2574.070</td>\n",
       "    </tr>\n",
       "  </tbody>\n",
       "</table>\n",
       "</div>"
      ],
      "text/plain": [
       "                 count    mean     std   min     25%     50%     75%      max\n",
       "event_type                                                                   \n",
       "cart        237171.000 335.177 350.372 0.000 130.990 197.120 398.770 2574.040\n",
       "purchase    241594.000 309.106 349.393 0.790  87.260 179.260 373.210 2574.070\n",
       "view       5605452.000 276.465 346.521 0.000  61.780 154.160 334.340 2574.070"
      ]
     },
     "execution_count": 9,
     "metadata": {},
     "output_type": "execute_result"
    }
   ],
   "source": [
    "df.groupby('event_type')['price'].describe()"
   ]
  },
  {
   "cell_type": "code",
   "execution_count": 10,
   "metadata": {
    "colab": {
     "base_uri": "https://localhost:8080/",
     "height": 517
    },
    "id": "WXKsfMYDZRqS",
    "outputId": "e5bd4d27-84da-4e39-a34b-516aa9e66451"
   },
   "outputs": [
    {
     "data": {
      "text/plain": [
       "Text(0.5, 1.0, 'Histograma de precio')"
      ]
     },
     "execution_count": 10,
     "metadata": {},
     "output_type": "execute_result"
    },
    {
     "data": {
      "image/png": "[encoded data removed]",
      "text/plain": [
       "<Figure size 720x432 with 1 Axes>"
      ]
     },
     "metadata": {
      "needs_background": "light"
     },
     "output_type": "display_data"
    }
   ],
   "source": [
    "fig, ax = plt.subplots(figsize = (10, 6))\n",
    "sns.distplot(df['price'],bins=15, hist=True, kde=True)\n",
    "ax.set_title('Histograma de precio') # están concentrados entre 0 y 250 mas o menos"
   ]
  },
  {
   "cell_type": "code",
   "execution_count": 11,
   "metadata": {
    "colab": {
     "base_uri": "https://localhost:8080/"
    },
    "id": "80bDaeP1ZSn7",
    "outputId": "e0e2a361-2890-4937-af28-d7620a427a54"
   },
   "outputs": [
    {
     "data": {
      "text/plain": [
       "1028553"
      ]
     },
     "execution_count": 11,
     "metadata": {},
     "output_type": "execute_result"
    }
   ],
   "source": [
    "usuarios = df['user_id']\n",
    "usuarios.nunique()"
   ]
  },
  {
   "cell_type": "code",
   "execution_count": 12,
   "metadata": {
    "colab": {
     "base_uri": "https://localhost:8080/"
    },
    "id": "_mDejzKSZSja",
    "outputId": "2563e98a-f03b-4e6c-ecab-4edce4cc33d7"
   },
   "outputs": [
    {
     "data": {
      "text/plain": [
       "124354"
      ]
     },
     "execution_count": 12,
     "metadata": {},
     "output_type": "execute_result"
    }
   ],
   "source": [
    "id_compradores = df[df['event_type'] == 'purchase']['user_id']\n",
    "id_compradores.nunique() "
   ]
  },
  {
   "cell_type": "code",
   "execution_count": 13,
   "metadata": {
    "colab": {
     "base_uri": "https://localhost:8080/"
    },
    "id": "E-czZotVEw6m",
    "outputId": "9d0999f3-8b9e-4b50-830a-9c7d354d35f0"
   },
   "outputs": [
    {
     "data": {
      "text/plain": [
       "12.090188838105572"
      ]
     },
     "execution_count": 13,
     "metadata": {},
     "output_type": "execute_result"
    }
   ],
   "source": [
    "# porcentaje de usuarios que compran\n",
    "(id_compradores.nunique()/usuarios.nunique())*100\n",
    "# solo el 12% de los usuarios de la página de e-commerce realizaron alguna compra"
   ]
  },
  {
   "cell_type": "code",
   "execution_count": 14,
   "metadata": {
    "colab": {
     "base_uri": "https://localhost:8080/"
    },
    "id": "rNy4yOVxMvsG",
    "outputId": "f071b4f0-42fc-405c-a107-a984275087da"
   },
   "outputs": [
    {
     "data": {
      "text/plain": [
       "126"
      ]
     },
     "execution_count": 14,
     "metadata": {},
     "output_type": "execute_result"
    }
   ],
   "source": [
    "df['category_code'].nunique()"
   ]
  },
  {
   "cell_type": "code",
   "execution_count": 15,
   "metadata": {
    "colab": {
     "base_uri": "https://localhost:8080/"
    },
    "id": "YBuiSNF0Mvm1",
    "outputId": "37124eea-4e86-4b5e-cb53-60c347e6e35b"
   },
   "outputs": [
    {
     "data": {
      "text/plain": [
       "116"
      ]
     },
     "execution_count": 15,
     "metadata": {},
     "output_type": "execute_result"
    }
   ],
   "source": [
    "codigos_vendidos = df[df['event_type'] == 'purchase']['category_code']\n",
    "codigos_vendidos.nunique() "
   ]
  },
  {
   "cell_type": "code",
   "execution_count": 16,
   "metadata": {
    "colab": {
     "base_uri": "https://localhost:8080/"
    },
    "id": "qZuEUNApM-wn",
    "outputId": "fbbbb3ac-94e5-4034-efbc-c0a207efc28e"
   },
   "outputs": [
    {
     "data": {
      "text/plain": [
       "92.06349206349206"
      ]
     },
     "execution_count": 16,
     "metadata": {},
     "output_type": "execute_result"
    }
   ],
   "source": [
    "# porcentaje de códigos que son vendidos\n",
    "(codigos_vendidos.nunique()/df['category_code'].nunique())*100\n",
    "# el 92% de los códigos de la página de e-commerce son vendidos"
   ]
  },
  {
   "cell_type": "code",
   "execution_count": 17,
   "metadata": {
    "colab": {
     "base_uri": "https://localhost:8080/"
    },
    "id": "HoFN1QKDEw0_",
    "outputId": "dea000f7-6603-4daf-bd76-7012c7ed29b3"
   },
   "outputs": [
    {
     "data": {
      "text/plain": [
       "614"
      ]
     },
     "execution_count": 17,
     "metadata": {},
     "output_type": "execute_result"
    }
   ],
   "source": [
    "df['category_id'].nunique()"
   ]
  },
  {
   "cell_type": "code",
   "execution_count": 18,
   "metadata": {
    "colab": {
     "base_uri": "https://localhost:8080/"
    },
    "id": "kuk7kF7MEwwu",
    "outputId": "e2711e5c-3b9b-4355-ace6-0c0430eb1c2c"
   },
   "outputs": [
    {
     "data": {
      "text/plain": [
       "538"
      ]
     },
     "execution_count": 18,
     "metadata": {},
     "output_type": "execute_result"
    }
   ],
   "source": [
    "categorias_vendidas = df[df['event_type'] == 'purchase']['category_id']\n",
    "categorias_vendidas.nunique() \n",
    "\n",
    "#¿Podemos borrar las que no son vendidas? buscar su nombre como para saberlas "
   ]
  },
  {
   "cell_type": "code",
   "execution_count": 19,
   "metadata": {
    "colab": {
     "base_uri": "https://localhost:8080/"
    },
    "id": "PX48hK2_FyIz",
    "outputId": "e683cc71-640a-4588-f0ae-0843b55c3899"
   },
   "outputs": [
    {
     "data": {
      "text/plain": [
       "87.62214983713355"
      ]
     },
     "execution_count": 19,
     "metadata": {},
     "output_type": "execute_result"
    }
   ],
   "source": [
    "# porcentaje de categorías que son vendidas\n",
    "(categorias_vendidas.nunique()/df['category_id'].nunique())*100\n",
    "# solo el 87% de las categorías de la página de e-commerce son vendidas"
   ]
  },
  {
   "cell_type": "code",
   "execution_count": 20,
   "metadata": {
    "colab": {
     "base_uri": "https://localhost:8080/"
    },
    "id": "DOSj6TafFyFg",
    "outputId": "152add33-749a-49ab-aff0-4ed60cbaba34"
   },
   "outputs": [
    {
     "data": {
      "text/plain": [
       "241594"
      ]
     },
     "execution_count": 20,
     "metadata": {},
     "output_type": "execute_result"
    }
   ],
   "source": [
    "ventas = df[df['event_type'] == 'purchase']\n",
    "len(ventas)\n",
    "# de todos los datos, solo 241mil fueron compras, por 124mil usuarios distintos"
   ]
  },
  {
   "cell_type": "code",
   "execution_count": null,
   "metadata": {
    "id": "AyfYWx9qFxxJ"
   },
   "outputs": [],
   "source": []
  },
  {
   "cell_type": "markdown",
   "metadata": {
    "id": "AG3DGzZcfvuJ"
   },
   "source": [
    "## Tratamiento de duplicados"
   ]
  },
  {
   "cell_type": "code",
   "execution_count": 22,
   "metadata": {
    "colab": {
     "base_uri": "https://localhost:8080/"
    },
    "id": "s24_aUrnfzcp",
    "outputId": "eb8541cb-53e0-4f94-db62-8eb4a79b6993"
   },
   "outputs": [
    {
     "data": {
      "text/plain": [
       "5990"
      ]
     },
     "execution_count": 22,
     "metadata": {},
     "output_type": "execute_result"
    }
   ],
   "source": [
    "df.duplicated().sum()"
   ]
  },
  {
   "cell_type": "code",
   "execution_count": 23,
   "metadata": {
    "id": "oHcOTKqUfzUn"
   },
   "outputs": [],
   "source": [
    "df.drop_duplicates(inplace=True)"
   ]
  },
  {
   "cell_type": "markdown",
   "metadata": {
    "id": "JVI-geZ3J2I5"
   },
   "source": [
    "## Métodos para tratamiento de datos"
   ]
  },
  {
   "cell_type": "code",
   "execution_count": 24,
   "metadata": {
    "id": "EpDVqUA26bXH"
   },
   "outputs": [],
   "source": [
    "# método de para tratamiento de fechas de fechas\n",
    "def process_event_time(df, time_format='%Y-%m-%d %H:%M:%S UTC'):\n",
    "    df['event_time'] = pd.to_datetime(df['event_time'], format = time_format)\n",
    "    df['day_of_week'] = df.event_time.dt.day_name()   \n",
    "    df['date'] = df.event_time.dt.date\n",
    "    df['time'] = df.event_time.dt.time\n",
    "    df = df.drop(columns='event_time') #no lo uso con inplace porque me puede afectar la variable global df \n",
    "    return df"
   ]
  },
  {
   "cell_type": "code",
   "execution_count": 25,
   "metadata": {
    "id": "2ewg2JkE6bly"
   },
   "outputs": [],
   "source": [
    "df_preprocessed = process_event_time(df)"
   ]
  },
  {
   "cell_type": "code",
   "execution_count": null,
   "metadata": {
    "id": "N6zTyOIYJ9PP"
   },
   "outputs": [],
   "source": []
  },
  {
   "cell_type": "code",
   "execution_count": null,
   "metadata": {
    "id": "CbSa2ZspJ83V"
   },
   "outputs": [],
   "source": []
  },
  {
   "cell_type": "code",
   "execution_count": null,
   "metadata": {
    "id": "ziCyeyfLJ80t"
   },
   "outputs": [],
   "source": []
  },
  {
   "cell_type": "code",
   "execution_count": null,
   "metadata": {
    "id": "EX5Yd-BkJ8pP"
   },
   "outputs": [],
   "source": []
  },
  {
   "cell_type": "markdown",
   "metadata": {
    "id": "XyLzjxtgJ-M9"
   },
   "source": [
    "## Tratamiento de datos"
   ]
  },
  {
   "cell_type": "markdown",
   "metadata": {
    "id": "mTKmOl36AJo7"
   },
   "source": [
    "nulos: \n",
    "- heatmap(df.isnull()) para ver la distribución por columna\n",
    "- eliminar los productos gratis \n",
    "- eliminar aquellas vistas con category code nulos\n",
    "- category code nulos restantes, reemplazarlos según el product id, después asignarles una categoría por defecto y ver su frecuencia. Eliminar los no relevantes.\n",
    "\n",
    "\n",
    "variables:\n",
    "- dejar solo categorias y productos que representen hasta un 1%\n",
    "- pasar a datetime los que se necesiten"
   ]
  },
  {
   "cell_type": "markdown",
   "metadata": {
    "id": "pX-t8dhS9D9M"
   },
   "source": [
    "### Tratamiento de nulos"
   ]
  },
  {
   "cell_type": "markdown",
   "metadata": {
    "id": "OOwQg-bGgAe_"
   },
   "source": [
    "Category code"
   ]
  },
  {
   "cell_type": "code",
   "execution_count": 26,
   "metadata": {
    "colab": {
     "base_uri": "https://localhost:8080/"
    },
    "id": "ylKQSg-X6qtt",
    "outputId": "3d12ed95-1e40-4a33-e0bc-555669954ef8"
   },
   "outputs": [
    {
     "data": {
      "text/plain": [
       "view       0.958\n",
       "purchase   0.030\n",
       "cart       0.013\n",
       "Name: event_type, dtype: float64"
      ]
     },
     "execution_count": 26,
     "metadata": {},
     "output_type": "execute_result"
    }
   ],
   "source": [
    "df_preprocessed[df_preprocessed.category_code.isna()]['event_type'].value_counts(normalize=True)"
   ]
  },
  {
   "cell_type": "code",
   "execution_count": 27,
   "metadata": {
    "colab": {
     "base_uri": "https://localhost:8080/"
    },
    "id": "aeFxA5rBJvAT",
    "outputId": "89414311-c621-414b-9ada-9d528a57a01a"
   },
   "outputs": [
    {
     "data": {
      "text/plain": [
       "view        1832785\n",
       "purchase      56488\n",
       "cart          24635\n",
       "Name: event_type, dtype: int64"
      ]
     },
     "execution_count": 27,
     "metadata": {},
     "output_type": "execute_result"
    }
   ],
   "source": [
    "df_preprocessed[df_preprocessed.category_code.isna()]['event_type'].value_counts()"
   ]
  },
  {
   "cell_type": "markdown",
   "metadata": {
    "id": "07K1cnp8Ka4D"
   },
   "source": [
    "Como nuestro objetivo es analizar la incidencia entre carrito --> compra, decidimos borrar las vistas que no poseen categoría. "
   ]
  },
  {
   "cell_type": "code",
   "execution_count": 28,
   "metadata": {
    "id": "lbnJ8K5NJu8s"
   },
   "outputs": [],
   "source": [
    "view_ccode_nan = df_preprocessed.loc[(df_preprocessed['event_type'] == 'view') & (df_preprocessed.category_code.isna())]"
   ]
  },
  {
   "cell_type": "code",
   "execution_count": 29,
   "metadata": {
    "id": "8wauspcYJu48"
   },
   "outputs": [],
   "source": [
    "df_preprocessed.drop(view_ccode_nan.index, inplace=True)"
   ]
  },
  {
   "cell_type": "markdown",
   "metadata": {
    "id": "K0UF1QywKrkl"
   },
   "source": [
    "Para analizar las NaN restantes entre carrito y compra les asignamos valores. \n",
    "- Selección por id único (3 primeros n° de product_id) con las no NaN coincidentes\n",
    "- Selección por id único, pero con el n° por defecto, no con un nombre\n",
    "\n",
    "Luego verificamos la frecuencia de cada uno para dejar solo los que representen al menos 1% del total."
   ]
  },
  {
   "cell_type": "code",
   "execution_count": 30,
   "metadata": {
    "id": "0EAnanK8Ju2R"
   },
   "outputs": [],
   "source": [
    "df_preprocessed['cat_code'] = df_preprocessed['product_id'].astype(str).str[:3]"
   ]
  },
  {
   "cell_type": "code",
   "execution_count": 31,
   "metadata": {
    "id": "7fFwgRhPJuzS"
   },
   "outputs": [],
   "source": [
    "newdf = df_preprocessed[['cat_code','category_code']].copy()\n",
    "newdf = newdf.set_index('cat_code')\n",
    "newdf = newdf.dropna().drop_duplicates()\n",
    "cat_codes_dict = newdf['category_code'].to_dict()\n",
    "df_preprocessed['category_code'].fillna(df_preprocessed['cat_code'].map(cat_codes_dict),inplace=True)"
   ]
  },
  {
   "cell_type": "code",
   "execution_count": 32,
   "metadata": {
    "colab": {
     "base_uri": "https://localhost:8080/"
    },
    "id": "l1c57yM3Ljzl",
    "outputId": "6afe816a-70a6-48e7-f031-87214934ef5b"
   },
   "outputs": [
    {
     "data": {
      "text/plain": [
       "71943"
      ]
     },
     "execution_count": 32,
     "metadata": {},
     "output_type": "execute_result"
    }
   ],
   "source": [
    "df_preprocessed['category_code'].isnull().sum()"
   ]
  },
  {
   "cell_type": "code",
   "execution_count": 33,
   "metadata": {
    "id": "y1T4BPnbLjuL"
   },
   "outputs": [],
   "source": [
    "df_test = df_preprocessed.copy() # en un df de prueba hacemos la carga de n° para ver la frecuencia"
   ]
  },
  {
   "cell_type": "code",
   "execution_count": 34,
   "metadata": {
    "id": "7o1RpLBULjrn"
   },
   "outputs": [],
   "source": [
    "df_test.loc[pd.isna(df_preprocessed[\"category_code\"]), \"category_code\"] = df_test[pd.isna(df_test[\"category_code\"])][\"cat_code\"]"
   ]
  },
  {
   "cell_type": "code",
   "execution_count": 35,
   "metadata": {
    "colab": {
     "base_uri": "https://localhost:8080/"
    },
    "id": "LJJW-AbJLjpJ",
    "outputId": "6ac5dd20-26f5-485e-f184-ce7de145c3f6"
   },
   "outputs": [
    {
     "data": {
      "text/plain": [
       "electronics.smartphone             0.404\n",
       "electronics.clocks                 0.045\n",
       "electronics.audio.headphone        0.040\n",
       "electronics.video.tv               0.038\n",
       "computers.notebook                 0.037\n",
       "appliances.kitchen.washer          0.030\n",
       "appliances.kitchen.refrigerators   0.028\n",
       "appliances.environment.vacuum      0.028\n",
       "apparel.shoes                      0.024\n",
       "auto.accessories.player            0.015\n",
       "computers.desktop                  0.013\n",
       "apparel.shoes.keds                 0.012\n",
       "electronics.audio.subwoofer        0.011\n",
       "electronics.tablet                 0.011\n",
       "furniture.bedroom.bed              0.010\n",
       "Name: category_code, dtype: float64"
      ]
     },
     "execution_count": 35,
     "metadata": {},
     "output_type": "execute_result"
    }
   ],
   "source": [
    "df_test['category_code'].value_counts(normalize=True)[:15]"
   ]
  },
  {
   "cell_type": "markdown",
   "metadata": {
    "id": "8Luz2l7yL2Lj"
   },
   "source": [
    "Vemos que en las categorías más frecuentes no hay presente ninguno de estos valores NaN, entonces decidimos borrarlas en nuestro df_preprocessed."
   ]
  },
  {
   "cell_type": "code",
   "execution_count": 36,
   "metadata": {
    "id": "iSga9eSnLjme"
   },
   "outputs": [],
   "source": [
    "df_preprocessed.drop(df_preprocessed[df_preprocessed['category_code'].isna()].index, inplace=True)"
   ]
  },
  {
   "cell_type": "code",
   "execution_count": 37,
   "metadata": {
    "colab": {
     "base_uri": "https://localhost:8080/"
    },
    "id": "PAxMH_H1MENc",
    "outputId": "2ca6a9a4-bb38-49bc-fe30-63d31c71f1f8"
   },
   "outputs": [
    {
     "data": {
      "text/plain": [
       "4173499"
      ]
     },
     "execution_count": 37,
     "metadata": {},
     "output_type": "execute_result"
    }
   ],
   "source": [
    "df_preprocessed.shape[0]"
   ]
  },
  {
   "cell_type": "code",
   "execution_count": 88,
   "metadata": {},
   "outputs": [
    {
     "data": {
      "text/plain": [
       "view       0.922\n",
       "purchase   0.040\n",
       "cart       0.038\n",
       "Name: event_type, dtype: float64"
      ]
     },
     "execution_count": 88,
     "metadata": {},
     "output_type": "execute_result"
    }
   ],
   "source": [
    "df['event_type'].value_counts(normalize=True)"
   ]
  },
  {
   "cell_type": "code",
   "execution_count": 38,
   "metadata": {
    "colab": {
     "base_uri": "https://localhost:8080/"
    },
    "id": "_j31ea-1MEKZ",
    "outputId": "5b816e7b-a46a-42cb-ec9c-53813c731a1a"
   },
   "outputs": [
    {
     "data": {
      "text/plain": [
       "view       0.904\n",
       "cart       0.051\n",
       "purchase   0.045\n",
       "Name: event_type, dtype: float64"
      ]
     },
     "execution_count": 38,
     "metadata": {},
     "output_type": "execute_result"
    }
   ],
   "source": [
    "df_preprocessed['event_type'].value_counts(normalize=True)"
   ]
  },
  {
   "cell_type": "markdown",
   "metadata": {
    "id": "3F-PUGSJh0qw"
   },
   "source": [
    "En conclusión, eliminamos en un primer momento los datos nulos correspondientes a views ya que representan la mayoría de los nulos y no influyen en nuestro objetivo. Corroborando, vemos que al principio las views representan un 92% de los datos, compras y carrito el 4% cada uno. Luego del analisis y eliminación las views representan 90%, los carritos 5% y las compras 4,5%."
   ]
  },
  {
   "cell_type": "code",
   "execution_count": 111,
   "metadata": {
    "colab": {
     "base_uri": "https://localhost:8080/",
     "height": 473
    },
    "id": "DRgMnePno-CP",
    "outputId": "492f3980-aa6d-45e4-ad42-1e3885fa0310"
   },
   "outputs": [
    {
     "data": {
      "text/plain": [
       "(array([[3772532.,       0.,       0.,       0.,       0.,  211929.,\n",
       "               0.,       0.,       0.,  189038.],\n",
       "        [5605317.,       0.,       0.,       0.,       0.,  231338.,\n",
       "               0.,       0.,       0.,  241572.]]),\n",
       " array([0. , 0.2, 0.4, 0.6, 0.8, 1. , 1.2, 1.4, 1.6, 1.8, 2. ]),\n",
       " <a list of 2 BarContainer objects>)"
      ]
     },
     "execution_count": 111,
     "metadata": {},
     "output_type": "execute_result"
    },
    {
     "data": {
      "image/png": "[encoded data removed]",
      "text/plain": [
       "<Figure size 432x288 with 1 Axes>"
      ]
     },
     "metadata": {
      "needs_background": "light"
     },
     "output_type": "display_data"
    }
   ],
   "source": [
    "y=df['event_type'].to_numpy()\n",
    "x=df_preprocessed['event_type'].to_numpy()\n",
    "plt.hist([x,y] , color=['r','b'], alpha=0.5)"
   ]
  },
  {
   "cell_type": "code",
   "execution_count": null,
   "metadata": {},
   "outputs": [],
   "source": []
  },
  {
   "cell_type": "code",
   "execution_count": 62,
   "metadata": {},
   "outputs": [
    {
     "data": {
      "text/html": [
       "<div>\n",
       "<style scoped>\n",
       "    .dataframe tbody tr th:only-of-type {\n",
       "        vertical-align: middle;\n",
       "    }\n",
       "\n",
       "    .dataframe tbody tr th {\n",
       "        vertical-align: top;\n",
       "    }\n",
       "\n",
       "    .dataframe thead th {\n",
       "        text-align: right;\n",
       "    }\n",
       "</style>\n",
       "<table border=\"1\" class=\"dataframe\">\n",
       "  <thead>\n",
       "    <tr style=\"text-align: right;\">\n",
       "      <th></th>\n",
       "      <th>index</th>\n",
       "      <th>variable</th>\n",
       "      <th>value</th>\n",
       "    </tr>\n",
       "  </thead>\n",
       "  <tbody>\n",
       "    <tr>\n",
       "      <th>0</th>\n",
       "      <td>view</td>\n",
       "      <td>preprocesado</td>\n",
       "      <td>3772532</td>\n",
       "    </tr>\n",
       "    <tr>\n",
       "      <th>1</th>\n",
       "      <td>cart</td>\n",
       "      <td>preprocesado</td>\n",
       "      <td>211929</td>\n",
       "    </tr>\n",
       "    <tr>\n",
       "      <th>2</th>\n",
       "      <td>purchase</td>\n",
       "      <td>preprocesado</td>\n",
       "      <td>189038</td>\n",
       "    </tr>\n",
       "    <tr>\n",
       "      <th>3</th>\n",
       "      <td>view</td>\n",
       "      <td>original</td>\n",
       "      <td>5605317</td>\n",
       "    </tr>\n",
       "    <tr>\n",
       "      <th>4</th>\n",
       "      <td>cart</td>\n",
       "      <td>original</td>\n",
       "      <td>231338</td>\n",
       "    </tr>\n",
       "    <tr>\n",
       "      <th>5</th>\n",
       "      <td>purchase</td>\n",
       "      <td>original</td>\n",
       "      <td>241572</td>\n",
       "    </tr>\n",
       "  </tbody>\n",
       "</table>\n",
       "</div>"
      ],
      "text/plain": [
       "      index      variable    value\n",
       "0      view  preprocesado  3772532\n",
       "1      cart  preprocesado   211929\n",
       "2  purchase  preprocesado   189038\n",
       "3      view      original  5605317\n",
       "4      cart      original   231338\n",
       "5  purchase      original   241572"
      ]
     },
     "execution_count": 62,
     "metadata": {},
     "output_type": "execute_result"
    }
   ],
   "source": [
    "preprocesado = pd.Series(df_preprocessed['event_type']).value_counts()\n",
    "original = pd.Series(df['event_type']).value_counts()\n",
    "\n",
    "#get the counts as a dataframe\n",
    "df1=pd.concat([preprocesado,original],axis=1)\n",
    "df1.columns=['preprocesado','original']\n",
    "\n",
    "# melt the data frame so it has a \"tidy\" data format\n",
    "df1=df1.reset_index().melt(id_vars=['index'])\n",
    "df1"
   ]
  },
  {
   "cell_type": "code",
   "execution_count": 70,
   "metadata": {},
   "outputs": [
    {
     "data": {
      "image/png": "[encoded data removed]",
      "text/plain": [
       "<Figure size 648x360 with 2 Axes>"
      ]
     },
     "metadata": {
      "needs_background": "light"
     },
     "output_type": "display_data"
    }
   ],
   "source": [
    "#plot a bar graph and assign variable to hue\n",
    "ncount = len(df)\n",
    "fig, ax = plt.subplots(figsize=(9, 5))\n",
    "sns.barplot(\n",
    "    x='index',\n",
    "    y='value',\n",
    "    hue='variable',\n",
    "    data=df1,\n",
    "    palette=['blue','red'],\n",
    "    alpha=.5,\n",
    "    dodge=False)\n",
    "\n",
    "# Make twin axis\n",
    "ax2=ax.twinx()\n",
    "\n",
    "ax2.yaxis.tick_left()\n",
    "ax.yaxis.tick_right()\n",
    "\n",
    "# Also switch the labels over\n",
    "ax.yaxis.set_label_position('right')\n",
    "ax2.yaxis.set_label_position('left')\n",
    "\n",
    "\n",
    "ax2.set_ylabel('Frequency [%]')\n",
    "\n",
    "for p in ax.patches:\n",
    "    x=p.get_bbox().get_points()[:,0]\n",
    "    y=p.get_bbox().get_points()[1,1]\n",
    "    ax.annotate('{:.1f}%'.format(100.*y/ncount), (x.mean(), y), \n",
    "            ha='center', va='bottom') # set the alignment of the text\n"
   ]
  },
  {
   "cell_type": "code",
   "execution_count": 112,
   "metadata": {},
   "outputs": [
    {
     "data": {
      "image/png": "[encoded data removed]",
      "text/plain": [
       "<Figure size 648x504 with 2 Axes>"
      ]
     },
     "metadata": {
      "needs_background": "light"
     },
     "output_type": "display_data"
    }
   ],
   "source": [
    "first_list = df[\"event_type\"]\n",
    "second_list = df_preprocessed[\"event_type\"]\n",
    "\n",
    "# Create dictionaries from lists with this format: 'letter':count\n",
    "dict1 = dict(zip(*np.unique(first_list, return_counts=True)))\n",
    "dict2 = dict(zip(*np.unique(second_list, return_counts=True)))\n",
    "\n",
    "# Add missing letters with count=0 to each dictionary so that keys in\n",
    "# each dictionary are identical\n",
    "only_in_set1 = set(dict1)-set(dict2)\n",
    "only_in_set2 = set(dict2)-set(dict1)\n",
    "dict1.update(dict(zip(only_in_set2, [0]*len(only_in_set2))))\n",
    "dict2.update(dict(zip(only_in_set1, [0]*len(only_in_set1))))\n",
    "\n",
    "# Sort dictionaries alphabetically\n",
    "dict1 = dict(sorted(dict1.items()))\n",
    "dict2 = dict(sorted(dict2.items()))\n",
    "\n",
    "# Create grouped bar chart\n",
    "xticks = np.arange(len(dict1))\n",
    "bar_width = 0.3\n",
    "fig, ax = plt.subplots(figsize=(9, 7))\n",
    "ax.bar(xticks-bar_width/2, dict1.values(), bar_width,\n",
    "       color='rebeccapurple', label='Original')\n",
    "ax.bar(xticks+bar_width/2, dict2.values(), bar_width,\n",
    "       color='thistle', label='Preprocesado')\n",
    "\n",
    "# Set annotations, x-axis ticks and tick labels\n",
    "ax.set_ylabel('Counts')\n",
    "ax.set_title('Proporción de eventos antes y despúes del tratamiento de nulos')\n",
    "ax.set_xticks(xticks)\n",
    "ax.set_xticklabels(dict1.keys())\n",
    "ax.legend(frameon=False)\n",
    "\n",
    "# Percentage labels\n",
    "ncount = len(df_preprocessed)\n",
    "# Make twin axis\n",
    "ax2=ax.twinx()\n",
    "ax2.yaxis.tick_left()\n",
    "ax.yaxis.tick_right()\n",
    "# Also switch the labels over\n",
    "ax.yaxis.set_label_position('right')\n",
    "ax2.yaxis.set_label_position('left')\n",
    "ax2.set_ylabel('Frequency [%]')\n",
    "for p in ax.patches:\n",
    "    x=p.get_bbox().get_points()[:,0]\n",
    "    y=p.get_bbox().get_points()[1,1]\n",
    "    ax.annotate('{:.1f}%'.format(100.*y/ncount), (x.mean(), y), \n",
    "            ha='center', va='bottom') # set the alignment of the text"
   ]
  },
  {
   "cell_type": "code",
   "execution_count": 98,
   "metadata": {},
   "outputs": [
    {
     "data": {
      "image/png": "[encoded data removed]",
      "text/plain": [
       "<Figure size 648x504 with 2 Axes>"
      ]
     },
     "metadata": {
      "needs_background": "light"
     },
     "output_type": "display_data"
    }
   ],
   "source": [
    "first_list = df[\"event_type\"]\n",
    "second_list = df_preprocessed[\"event_type\"]\n",
    "\n",
    "# Create dictionaries from lists with this format: 'letter':count\n",
    "dict1 = dict(zip(*np.unique(first_list, return_counts=True)))\n",
    "dict2 = dict(zip(*np.unique(second_list, return_counts=True)))\n",
    "\n",
    "# Create grouped bar chart\n",
    "xticks = np.arange(len(dict1))\n",
    "bar_width = 0.3\n",
    "fig, ax = plt.subplots(figsize=(9, 7))\n",
    "ax.bar(xticks-bar_width/2, dict1.values(), bar_width,\n",
    "       color='rebeccapurple', label='Original')\n",
    "ax.bar(xticks+bar_width/2, dict2.values(), bar_width,\n",
    "       color='thistle', label='Preprocesado')\n",
    "\n",
    "# Set annotations, x-axis ticks and tick labels\n",
    "ax.set_ylabel('Counts')\n",
    "ax.set_title('Proporción de eventos antes y despúes del tratamiento de nulos')\n",
    "ax.set_xticks(xticks)\n",
    "ax.set_xticklabels(dict1.keys())\n",
    "ax.legend(frameon=False)\n",
    "\n",
    "# Make twin axis\n",
    "ax2=ax.twinx()\n",
    "\n",
    "ax2.yaxis.tick_left()\n",
    "ax.yaxis.tick_right()\n",
    "\n",
    "# Also switch the labels over\n",
    "ax.yaxis.set_label_position('right')\n",
    "ax2.yaxis.set_label_position('left')\n",
    "\n",
    "ax2.set_ylabel('Frequency [%]')\n",
    "\n",
    "for p in ax.patches:\n",
    "    x=p.get_bbox().get_points()[:,0]\n",
    "    y=p.get_bbox().get_points()[1,1]\n",
    "    ax.annotate('{:.1f}%'.format(100.*y/ncount), (x.mean(), y), \n",
    "            ha='center', va='bottom') # set the alignment of the text"
   ]
  },
  {
   "cell_type": "code",
   "execution_count": 113,
   "metadata": {},
   "outputs": [
    {
     "data": {
      "image/png": "[encoded data removed]",
      "text/plain": [
       "<Figure size 504x504 with 1 Axes>"
      ]
     },
     "metadata": {},
     "output_type": "display_data"
    }
   ],
   "source": [
    "antes_tnulos = [92.2, 4.0, 3.8]\n",
    "mylabels = 'Vista', 'Compra', 'Carrito'\n",
    "colors = ['pink', 'mediumpurple', 'lavender']\n",
    "fig1, ax1 = plt.subplots(figsize=(7,7))\n",
    "ax1 = plt.pie(antes_tnulos, labels=mylabels, autopct='%1.1f%%', colors=colors)\n",
    "plt.title('Proporción de eventos en el dataset original');"
   ]
  },
  {
   "cell_type": "code",
   "execution_count": 115,
   "metadata": {},
   "outputs": [
    {
     "data": {
      "image/png": "[encoded data removed]",
      "text/plain": [
       "<Figure size 504x504 with 1 Axes>"
      ]
     },
     "metadata": {},
     "output_type": "display_data"
    }
   ],
   "source": [
    "desp_tnulos = [90.4, 4.5, 5.1]\n",
    "mylabels1 = 'Vista', 'Compra', 'Carrito'\n",
    "colors = ['pink', 'mediumpurple', 'lavender']\n",
    "fig1, ax1 = plt.subplots(figsize=(7,7))\n",
    "ax1 = plt.pie(desp_tnulos, labels=mylabels1, autopct='%1.1f%%', colors=colors)\n",
    "plt.title('Proporción de eventos luego del tratamiento de nulos');"
   ]
  },
  {
   "cell_type": "code",
   "execution_count": 124,
   "metadata": {},
   "outputs": [
    {
     "data": {
      "image/png": "[encoded data removed]",
      "text/plain": [
       "<Figure size 720x720 with 2 Axes>"
      ]
     },
     "metadata": {},
     "output_type": "display_data"
    }
   ],
   "source": [
    "fig, ax =plt.subplots(figsize=(10,10))\n",
    "antes_tnulos = [92.2, 4.0, 3.8]\n",
    "mylabels = 'Vista', 'Compra', 'Carrito'\n",
    "colors = ['pink', 'mediumpurple', 'lavender']\n",
    "\n",
    "plt.subplot(1,2,1)\n",
    "plt.pie(antes_tnulos, labels=mylabels, autopct='%1.1f%%', colors=colors)\n",
    "plt.title('Proporción de eventos antes y después del tratamiento de nulos');\n",
    "desp_tnulos = [90.4, 4.5, 5.1]\n",
    "mylabels1 = 'Vista', 'Compra', 'Carrito'\n",
    "colors = ['pink', 'mediumpurple', 'lavender']\n",
    "\n",
    "plt.subplot(1,2,2)\n",
    "plt.pie(desp_tnulos, labels=mylabels1, autopct='%1.1f%%', colors=colors);"
   ]
  },
  {
   "cell_type": "code",
   "execution_count": null,
   "metadata": {},
   "outputs": [],
   "source": []
  },
  {
   "cell_type": "code",
   "execution_count": 55,
   "metadata": {
    "scrolled": true
   },
   "outputs": [
    {
     "name": "stderr",
     "output_type": "stream",
     "text": [
      "<ipython-input-55-a277322a4a58>:4: UserWarning: Matplotlib is currently using module://ipykernel.pylab.backend_inline, which is a non-GUI backend, so cannot show the figure.\n",
      "  fig.show()\n"
     ]
    },
    {
     "data": {
      "image/png": "[encoded data removed]",
      "text/plain": [
       "<Figure size 432x288 with 2 Axes>"
      ]
     },
     "metadata": {
      "needs_background": "light"
     },
     "output_type": "display_data"
    }
   ],
   "source": [
    "fig, ax =plt.subplots(1,2)\n",
    "sns.countplot(df[\"event_type\"], ax=ax[0])\n",
    "sns.countplot(df_preprocessed[\"event_type\"], ax=ax[1])"
   ]
  },
  {
   "cell_type": "code",
   "execution_count": 81,
   "metadata": {
    "colab": {
     "base_uri": "https://localhost:8080/",
     "height": 313
    },
    "id": "7shb84n2MEHw",
    "outputId": "07114726-746e-4ac7-8907-16bfd741eecf"
   },
   "outputs": [
    {
     "data": {
      "text/plain": [
       "<AxesSubplot:label='2c504070-dad5-4389-a781-e51ca78ac1df', xlabel='event_type', ylabel='count'>"
      ]
     },
     "execution_count": 81,
     "metadata": {},
     "output_type": "execute_result"
    },
    {
     "data": {
      "image/png": "[encoded data removed]",
      "text/plain": [
       "<Figure size 432x288 with 2 Axes>"
      ]
     },
     "metadata": {
      "needs_background": "light"
     },
     "output_type": "display_data"
    }
   ],
   "source": [
    "fig,ax=plt.subplots()\n",
    "sns.countplot(x='event_type',data=df_preprocessed,ax=ax, color='b')\n",
    "ax2 = ax.twinx()\n",
    "sns.countplot(x='event_type',data=df, ax=ax2, color='r', alpha=.5, saturation=0.5)"
   ]
  },
  {
   "cell_type": "code",
   "execution_count": null,
   "metadata": {
    "id": "xvqpdZODnEXf"
   },
   "outputs": [],
   "source": []
  },
  {
   "cell_type": "markdown",
   "metadata": {
    "id": "0ppRehcKMDJr"
   },
   "source": [
    "### Eliminar outliers de precios"
   ]
  },
  {
   "cell_type": "markdown",
   "metadata": {
    "id": "ZwSQnmC0nHEo"
   },
   "source": [
    "Antes de comenzar, separamos por categoría con sus correspondientes productos. Primero, se corrobora cuales categorías son más frecuentes (representan al menos 1% del total de los datos) y se clasifica a las demás como 'otros', luego, se buscan outliers de cada categoría."
   ]
  },
  {
   "cell_type": "code",
   "execution_count": 53,
   "metadata": {
    "id": "pRQKjajMnFjm"
   },
   "outputs": [],
   "source": [
    "# método para tratamiento de categorías\n",
    "def prepare_categories(df, levels=2):\n",
    "    df_categories = df['category_code'].str.split('.',expand=True)\n",
    "    if len(df_categories.columns) > levels:\n",
    "        to_remove = df_categories.columns[levels:]\n",
    "    df_categories.drop(columns=to_remove,inplace=True) #puedo usar el inplace porque no es global, la estoy definiendo acá\n",
    "    df = pd.concat([df,df_categories],axis=1)\n",
    "    df = df.drop(columns='category_code')\n",
    "    df.columns = ['event_type','product_id','category_id','brand','price', 'user_id','user_session', 'day_of_week',\n",
    "               'date','time','cat_code','category','product']\n",
    "    return df"
   ]
  },
  {
   "cell_type": "code",
   "execution_count": 54,
   "metadata": {
    "id": "qHWDJVpmnGnf"
   },
   "outputs": [],
   "source": [
    "df_preprocessed = prepare_categories(df_preprocessed)"
   ]
  },
  {
   "cell_type": "code",
   "execution_count": 55,
   "metadata": {
    "colab": {
     "base_uri": "https://localhost:8080/",
     "height": 234
    },
    "id": "1tcw6hS0pHQ-",
    "outputId": "f2096620-6bd4-408d-eaf8-aef2934cfeff"
   },
   "outputs": [
    {
     "data": {
      "text/html": [
       "<div>\n",
       "<style scoped>\n",
       "    .dataframe tbody tr th:only-of-type {\n",
       "        vertical-align: middle;\n",
       "    }\n",
       "\n",
       "    .dataframe tbody tr th {\n",
       "        vertical-align: top;\n",
       "    }\n",
       "\n",
       "    .dataframe thead th {\n",
       "        text-align: right;\n",
       "    }\n",
       "</style>\n",
       "<table border=\"1\" class=\"dataframe\">\n",
       "  <thead>\n",
       "    <tr style=\"text-align: right;\">\n",
       "      <th></th>\n",
       "      <th>event_type</th>\n",
       "      <th>product_id</th>\n",
       "      <th>category_id</th>\n",
       "      <th>brand</th>\n",
       "      <th>price</th>\n",
       "      <th>user_id</th>\n",
       "      <th>user_session</th>\n",
       "      <th>day_of_week</th>\n",
       "      <th>date</th>\n",
       "      <th>time</th>\n",
       "      <th>cat_code</th>\n",
       "      <th>category</th>\n",
       "      <th>product</th>\n",
       "    </tr>\n",
       "  </thead>\n",
       "  <tbody>\n",
       "    <tr>\n",
       "      <th>39054315</th>\n",
       "      <td>view</td>\n",
       "      <td>1004767</td>\n",
       "      <td>2053013555631882655</td>\n",
       "      <td>samsung</td>\n",
       "      <td>243.220</td>\n",
       "      <td>564343135</td>\n",
       "      <td>76be743b-f5cd-47a2-82eb-b489597df6ba</td>\n",
       "      <td>Tuesday</td>\n",
       "      <td>2019-10-29</td>\n",
       "      <td>07:06:41</td>\n",
       "      <td>100</td>\n",
       "      <td>electronics</td>\n",
       "      <td>smartphone</td>\n",
       "    </tr>\n",
       "    <tr>\n",
       "      <th>24303444</th>\n",
       "      <td>view</td>\n",
       "      <td>1307059</td>\n",
       "      <td>2053013558920217191</td>\n",
       "      <td>apple</td>\n",
       "      <td>1569.920</td>\n",
       "      <td>549727626</td>\n",
       "      <td>022640cb-f45a-4e76-9ade-3eeec65d7837</td>\n",
       "      <td>Friday</td>\n",
       "      <td>2019-10-18</td>\n",
       "      <td>14:21:55</td>\n",
       "      <td>130</td>\n",
       "      <td>computers</td>\n",
       "      <td>notebook</td>\n",
       "    </tr>\n",
       "  </tbody>\n",
       "</table>\n",
       "</div>"
      ],
      "text/plain": [
       "         event_type  product_id  ...     category     product\n",
       "39054315       view     1004767  ...  electronics  smartphone\n",
       "24303444       view     1307059  ...    computers    notebook\n",
       "\n",
       "[2 rows x 13 columns]"
      ]
     },
     "execution_count": 55,
     "metadata": {
      "tags": []
     },
     "output_type": "execute_result"
    }
   ],
   "source": [
    "df_preprocessed.head(2)"
   ]
  },
  {
   "cell_type": "markdown",
   "metadata": {
    "id": "dqyT_7eXn6vA"
   },
   "source": [
    "Eliminación de productos gratis"
   ]
  },
  {
   "cell_type": "code",
   "execution_count": 56,
   "metadata": {
    "id": "rGfjB8cH9BDQ"
   },
   "outputs": [],
   "source": [
    "free_prods = df_preprocessed[df_preprocessed['price']==0] # productos gratis\n",
    "df_preprocessed.drop(free_prods.index, inplace=True)"
   ]
  },
  {
   "cell_type": "markdown",
   "metadata": {
    "id": "uEEUf5pvphEW"
   },
   "source": [
    "Búsqueda de productos frecuentes"
   ]
  },
  {
   "cell_type": "code",
   "execution_count": 57,
   "metadata": {
    "colab": {
     "base_uri": "https://localhost:8080/"
    },
    "id": "4dRXxkrNqGIQ",
    "outputId": "d1aaebba-6534-47f0-b422-92367fa77da6"
   },
   "outputs": [
    {
     "data": {
      "text/plain": [
       "electronics    0.573\n",
       "appliances     0.173\n",
       "computers      0.076\n",
       "apparel        0.047\n",
       "furniture      0.039\n",
       "auto           0.034\n",
       "construction   0.025\n",
       "kids           0.017\n",
       "accessories    0.009\n",
       "sport          0.005\n",
       "medicine       0.001\n",
       "country_yard   0.000\n",
       "stationery     0.000\n",
       "Name: category, dtype: float64"
      ]
     },
     "execution_count": 57,
     "metadata": {
      "tags": []
     },
     "output_type": "execute_result"
    }
   ],
   "source": [
    "df_preprocessed['category'].value_counts(normalize=True)\n"
   ]
  },
  {
   "cell_type": "code",
   "execution_count": 58,
   "metadata": {
    "colab": {
     "base_uri": "https://localhost:8080/"
    },
    "id": "2F_mLchSqGBd",
    "outputId": "50e22689-9063-43ca-e6b3-63e9fbff0546"
   },
   "outputs": [
    {
     "data": {
      "text/plain": [
       "['electronics',\n",
       " 'appliances',\n",
       " 'computers',\n",
       " 'apparel',\n",
       " 'furniture',\n",
       " 'auto',\n",
       " 'construction',\n",
       " 'kids']"
      ]
     },
     "execution_count": 58,
     "metadata": {
      "tags": []
     },
     "output_type": "execute_result"
    }
   ],
   "source": [
    "cat_frecuentes = df_preprocessed['category'].value_counts(normalize=True)[:8].index.to_list()\n",
    "cat_frecuentes"
   ]
  },
  {
   "cell_type": "code",
   "execution_count": 59,
   "metadata": {
    "colab": {
     "base_uri": "https://localhost:8080/",
     "height": 464
    },
    "id": "fKqguQJDqF-k",
    "outputId": "27787afc-0b5b-4239-c789-629de391eb9b"
   },
   "outputs": [
    {
     "data": {
      "image/png": "[encoded data removed]",
      "text/plain": [
       "<Figure size 792x504 with 1 Axes>"
      ]
     },
     "metadata": {
      "tags": []
     },
     "output_type": "display_data"
    }
   ],
   "source": [
    "fig,ax = plt.subplots(figsize = (11, 7))\n",
    "sns.barplot(x=cat_frecuentes, y=df_preprocessed['category'].value_counts(normalize=True)[:8]*100, data=df_preprocessed)\n",
    "ax.set_title('Categorías más frecuentes')\n",
    "ax.set(xlabel='Categoría', ylabel='Frecuencia');"
   ]
  },
  {
   "cell_type": "code",
   "execution_count": 60,
   "metadata": {
    "id": "fXumQXhsqReQ"
   },
   "outputs": [],
   "source": [
    "df_preprocessed.loc[~(df_preprocessed['category'].isin(cat_frecuentes)),'category'] = 'others'"
   ]
  },
  {
   "cell_type": "code",
   "execution_count": 61,
   "metadata": {
    "colab": {
     "base_uri": "https://localhost:8080/"
    },
    "id": "o00CDagHqRbX",
    "outputId": "f5a1e64a-d790-43ee-8fd3-7ca9c559f7ab"
   },
   "outputs": [
    {
     "data": {
      "text/plain": [
       "electronics    0.573\n",
       "appliances     0.173\n",
       "computers      0.076\n",
       "apparel        0.047\n",
       "furniture      0.039\n",
       "auto           0.034\n",
       "construction   0.025\n",
       "kids           0.017\n",
       "others         0.015\n",
       "Name: category, dtype: float64"
      ]
     },
     "execution_count": 61,
     "metadata": {
      "tags": []
     },
     "output_type": "execute_result"
    }
   ],
   "source": [
    "df_preprocessed['category'].value_counts(normalize=True)"
   ]
  },
  {
   "cell_type": "code",
   "execution_count": 62,
   "metadata": {
    "colab": {
     "base_uri": "https://localhost:8080/",
     "height": 481
    },
    "id": "SJedejMgqRYZ",
    "outputId": "a31f0e6d-ddca-4894-823f-9c055cb69018"
   },
   "outputs": [
    {
     "data": {
      "text/plain": [
       "[Text(0, 0.5, 'Frecuencia'), Text(0.5, 0, 'Categoría')]"
      ]
     },
     "execution_count": 62,
     "metadata": {
      "tags": []
     },
     "output_type": "execute_result"
    },
    {
     "data": {
      "image/png": "[encoded data removed]",
      "text/plain": [
       "<Figure size 792x504 with 1 Axes>"
      ]
     },
     "metadata": {
      "tags": []
     },
     "output_type": "display_data"
    }
   ],
   "source": [
    "fig,ax = plt.subplots(figsize = (11, 7))\n",
    "sns.countplot(x='category', order = df_preprocessed['category'].value_counts().index, data=df_preprocessed)\n",
    "ax.set_title('Categorías más frecuentes')\n",
    "ax.set(xlabel='Categoría', ylabel='Frecuencia')\n"
   ]
  },
  {
   "cell_type": "code",
   "execution_count": 65,
   "metadata": {
    "id": "63BJmJViqRSI"
   },
   "outputs": [],
   "source": [
    "def check_outliers(category, umbral=1.5):\n",
    "    price_category = df_preprocessed.loc[df_preprocessed['category']==category, 'price']\n",
    "    Q1 = price_category.quantile(0.25)\n",
    "    Q3 = price_category.quantile(0.75)\n",
    "    IQR = Q3 - Q1\n",
    "    umbral_outlier = IQR * umbral\n",
    "    valor_absoluto_outliers_superior = (price_category > umbral_outlier).sum()\n",
    "    valor_absoluto_outliers_inferior = (price_category < umbral_outlier*-1).sum()\n",
    "    valor_relativo_outliers_superior = valor_absoluto_outliers_superior / len(price_category)\n",
    "    valor_relativo_outliers_inferior = valor_absoluto_outliers_inferior / len(price_category)\n",
    "    metricas = {'v_a_s':valor_absoluto_outliers_superior,'v_r_s':valor_relativo_outliers_superior,\n",
    "                'v_a_i':valor_absoluto_outliers_inferior,'v_r_i':valor_relativo_outliers_inferior}\n",
    "    return metricas"
   ]
  },
  {
   "cell_type": "code",
   "execution_count": 66,
   "metadata": {
    "colab": {
     "base_uri": "https://localhost:8080/"
    },
    "id": "3nZZj4_AxDr5",
    "outputId": "215c16ce-e0a1-4ec8-a3f2-d089839bca3d"
   },
   "outputs": [
    {
     "data": {
      "text/plain": [
       "{'v_a_i': 0, 'v_a_s': 541136, 'v_r_i': 0.0, 'v_r_s': 0.22651701045902328}"
      ]
     },
     "execution_count": 66,
     "metadata": {
      "tags": []
     },
     "output_type": "execute_result"
    }
   ],
   "source": [
    "check_outliers('electronics')"
   ]
  },
  {
   "cell_type": "code",
   "execution_count": 67,
   "metadata": {
    "id": "SXn4yQUjxDbD"
   },
   "outputs": [],
   "source": [
    "price_category = df_preprocessed.loc[df_preprocessed['category']=='electronics', 'price']"
   ]
  },
  {
   "cell_type": "code",
   "execution_count": 68,
   "metadata": {
    "colab": {
     "base_uri": "https://localhost:8080/"
    },
    "id": "yH0xv7LxxhMC",
    "outputId": "1e36f63b-7d04-4478-ca84-2a74d8292782"
   },
   "outputs": [
    {
     "data": {
      "text/plain": [
       "534.38"
      ]
     },
     "execution_count": 68,
     "metadata": {
      "tags": []
     },
     "output_type": "execute_result"
    }
   ],
   "source": [
    "price_category.quantile(0.75)"
   ]
  },
  {
   "cell_type": "code",
   "execution_count": 69,
   "metadata": {
    "id": "Ev9aeUD_xhGX"
   },
   "outputs": [],
   "source": [
    "umbrales = np.array([1,2,3,4,5,6,7,8,9])\n",
    "umbrales = pd.DataFrame(umbrales)"
   ]
  },
  {
   "cell_type": "code",
   "execution_count": 70,
   "metadata": {
    "colab": {
     "base_uri": "https://localhost:8080/",
     "height": 325
    },
    "id": "6l7skZbWxhD4",
    "outputId": "d0aeb326-868a-4097-f022-f235de314dc7"
   },
   "outputs": [
    {
     "data": {
      "text/html": [
       "<div>\n",
       "<style scoped>\n",
       "    .dataframe tbody tr th:only-of-type {\n",
       "        vertical-align: middle;\n",
       "    }\n",
       "\n",
       "    .dataframe tbody tr th {\n",
       "        vertical-align: top;\n",
       "    }\n",
       "\n",
       "    .dataframe thead th {\n",
       "        text-align: right;\n",
       "    }\n",
       "</style>\n",
       "<table border=\"1\" class=\"dataframe\">\n",
       "  <thead>\n",
       "    <tr style=\"text-align: right;\">\n",
       "      <th></th>\n",
       "      <th>index</th>\n",
       "      <th>category</th>\n",
       "    </tr>\n",
       "  </thead>\n",
       "  <tbody>\n",
       "    <tr>\n",
       "      <th>0</th>\n",
       "      <td>39054315</td>\n",
       "      <td>electronics</td>\n",
       "    </tr>\n",
       "    <tr>\n",
       "      <th>1</th>\n",
       "      <td>24303444</td>\n",
       "      <td>computers</td>\n",
       "    </tr>\n",
       "    <tr>\n",
       "      <th>2</th>\n",
       "      <td>27046904</td>\n",
       "      <td>appliances</td>\n",
       "    </tr>\n",
       "    <tr>\n",
       "      <th>3</th>\n",
       "      <td>11200334</td>\n",
       "      <td>apparel</td>\n",
       "    </tr>\n",
       "    <tr>\n",
       "      <th>4</th>\n",
       "      <td>36883873</td>\n",
       "      <td>construction</td>\n",
       "    </tr>\n",
       "    <tr>\n",
       "      <th>5</th>\n",
       "      <td>10457763</td>\n",
       "      <td>furniture</td>\n",
       "    </tr>\n",
       "    <tr>\n",
       "      <th>6</th>\n",
       "      <td>28992716</td>\n",
       "      <td>others</td>\n",
       "    </tr>\n",
       "    <tr>\n",
       "      <th>7</th>\n",
       "      <td>25974194</td>\n",
       "      <td>kids</td>\n",
       "    </tr>\n",
       "    <tr>\n",
       "      <th>8</th>\n",
       "      <td>22255524</td>\n",
       "      <td>auto</td>\n",
       "    </tr>\n",
       "  </tbody>\n",
       "</table>\n",
       "</div>"
      ],
      "text/plain": [
       "      index      category\n",
       "0  39054315   electronics\n",
       "1  24303444     computers\n",
       "2  27046904    appliances\n",
       "3  11200334       apparel\n",
       "4  36883873  construction\n",
       "5  10457763     furniture\n",
       "6  28992716        others\n",
       "7  25974194          kids\n",
       "8  22255524          auto"
      ]
     },
     "execution_count": 70,
     "metadata": {
      "tags": []
     },
     "output_type": "execute_result"
    }
   ],
   "source": [
    "newdf = df_preprocessed['category'].copy()\n",
    "newdf = newdf.drop_duplicates()\n",
    "newdf = newdf.dropna()\n",
    "newdf.reset_index()"
   ]
  },
  {
   "cell_type": "code",
   "execution_count": null,
   "metadata": {
    "id": "D1wjl2NawCnP"
   },
   "outputs": [],
   "source": []
  },
  {
   "cell_type": "code",
   "execution_count": null,
   "metadata": {
    "id": "fyaoBOBKwCjf"
   },
   "outputs": [],
   "source": []
  },
  {
   "cell_type": "code",
   "execution_count": null,
   "metadata": {
    "id": "vLdC2Su3wChc"
   },
   "outputs": [],
   "source": []
  },
  {
   "cell_type": "code",
   "execution_count": null,
   "metadata": {
    "id": "rUswJmiqwCfL"
   },
   "outputs": [],
   "source": []
  },
  {
   "cell_type": "code",
   "execution_count": null,
   "metadata": {
    "id": "v04b9E0pwCcM"
   },
   "outputs": [],
   "source": []
  },
  {
   "cell_type": "code",
   "execution_count": null,
   "metadata": {
    "id": "UsYtywZmqF7L"
   },
   "outputs": [],
   "source": []
  },
  {
   "cell_type": "code",
   "execution_count": null,
   "metadata": {
    "colab": {
     "base_uri": "https://localhost:8080/",
     "height": 478
    },
    "id": "h4KYpflIbIwS",
    "outputId": "57504793-77bd-47e5-e651-ee32df0ba4e0"
   },
   "outputs": [
    {
     "data": {
      "text/html": [
       "<div>\n",
       "<style scoped>\n",
       "    .dataframe tbody tr th:only-of-type {\n",
       "        vertical-align: middle;\n",
       "    }\n",
       "\n",
       "    .dataframe tbody tr th {\n",
       "        vertical-align: top;\n",
       "    }\n",
       "\n",
       "    .dataframe thead th {\n",
       "        text-align: right;\n",
       "    }\n",
       "</style>\n",
       "<table border=\"1\" class=\"dataframe\">\n",
       "  <thead>\n",
       "    <tr style=\"text-align: right;\">\n",
       "      <th></th>\n",
       "      <th>count</th>\n",
       "      <th>mean</th>\n",
       "      <th>std</th>\n",
       "      <th>min</th>\n",
       "      <th>25%</th>\n",
       "      <th>50%</th>\n",
       "      <th>75%</th>\n",
       "      <th>max</th>\n",
       "    </tr>\n",
       "    <tr>\n",
       "      <th>category</th>\n",
       "      <th></th>\n",
       "      <th></th>\n",
       "      <th></th>\n",
       "      <th></th>\n",
       "      <th></th>\n",
       "      <th></th>\n",
       "      <th></th>\n",
       "      <th></th>\n",
       "    </tr>\n",
       "  </thead>\n",
       "  <tbody>\n",
       "    <tr>\n",
       "      <th>accessories</th>\n",
       "      <td>37252.000</td>\n",
       "      <td>58.472</td>\n",
       "      <td>72.625</td>\n",
       "      <td>1.860</td>\n",
       "      <td>24.940</td>\n",
       "      <td>43.760</td>\n",
       "      <td>70.790</td>\n",
       "      <td>1717.160</td>\n",
       "    </tr>\n",
       "    <tr>\n",
       "      <th>apparel</th>\n",
       "      <td>196575.000</td>\n",
       "      <td>81.855</td>\n",
       "      <td>45.708</td>\n",
       "      <td>3.470</td>\n",
       "      <td>51.220</td>\n",
       "      <td>74.390</td>\n",
       "      <td>104.760</td>\n",
       "      <td>913.790</td>\n",
       "    </tr>\n",
       "    <tr>\n",
       "      <th>appliances</th>\n",
       "      <td>721308.000</td>\n",
       "      <td>209.389</td>\n",
       "      <td>237.123</td>\n",
       "      <td>3.350</td>\n",
       "      <td>57.890</td>\n",
       "      <td>134.060</td>\n",
       "      <td>295.750</td>\n",
       "      <td>2574.040</td>\n",
       "    </tr>\n",
       "    <tr>\n",
       "      <th>auto</th>\n",
       "      <td>140719.000</td>\n",
       "      <td>138.804</td>\n",
       "      <td>130.301</td>\n",
       "      <td>5.920</td>\n",
       "      <td>64.090</td>\n",
       "      <td>121.240</td>\n",
       "      <td>154.440</td>\n",
       "      <td>2165.760</td>\n",
       "    </tr>\n",
       "    <tr>\n",
       "      <th>computers</th>\n",
       "      <td>317266.000</td>\n",
       "      <td>477.434</td>\n",
       "      <td>471.794</td>\n",
       "      <td>1.260</td>\n",
       "      <td>131.830</td>\n",
       "      <td>337.170</td>\n",
       "      <td>680.510</td>\n",
       "      <td>2574.040</td>\n",
       "    </tr>\n",
       "    <tr>\n",
       "      <th>construction</th>\n",
       "      <td>105128.000</td>\n",
       "      <td>156.078</td>\n",
       "      <td>216.971</td>\n",
       "      <td>1.020</td>\n",
       "      <td>51.460</td>\n",
       "      <td>90.070</td>\n",
       "      <td>165.410</td>\n",
       "      <td>2571.160</td>\n",
       "    </tr>\n",
       "    <tr>\n",
       "      <th>country_yard</th>\n",
       "      <td>1870.000</td>\n",
       "      <td>257.899</td>\n",
       "      <td>196.855</td>\n",
       "      <td>25.100</td>\n",
       "      <td>124.270</td>\n",
       "      <td>228.510</td>\n",
       "      <td>320.190</td>\n",
       "      <td>2426.320</td>\n",
       "    </tr>\n",
       "    <tr>\n",
       "      <th>electronics</th>\n",
       "      <td>2388942.000</td>\n",
       "      <td>402.238</td>\n",
       "      <td>392.515</td>\n",
       "      <td>0.880</td>\n",
       "      <td>143.600</td>\n",
       "      <td>247.080</td>\n",
       "      <td>534.380</td>\n",
       "      <td>2574.070</td>\n",
       "    </tr>\n",
       "    <tr>\n",
       "      <th>furniture</th>\n",
       "      <td>163112.000</td>\n",
       "      <td>252.226</td>\n",
       "      <td>252.193</td>\n",
       "      <td>2.550</td>\n",
       "      <td>93.180</td>\n",
       "      <td>167.310</td>\n",
       "      <td>334.370</td>\n",
       "      <td>2574.040</td>\n",
       "    </tr>\n",
       "    <tr>\n",
       "      <th>kids</th>\n",
       "      <td>71961.000</td>\n",
       "      <td>148.672</td>\n",
       "      <td>196.856</td>\n",
       "      <td>0.900</td>\n",
       "      <td>35.490</td>\n",
       "      <td>77.220</td>\n",
       "      <td>171.460</td>\n",
       "      <td>2391.310</td>\n",
       "    </tr>\n",
       "    <tr>\n",
       "      <th>medicine</th>\n",
       "      <td>2252.000</td>\n",
       "      <td>50.646</td>\n",
       "      <td>38.222</td>\n",
       "      <td>25.770</td>\n",
       "      <td>38.590</td>\n",
       "      <td>40.930</td>\n",
       "      <td>51.430</td>\n",
       "      <td>372.850</td>\n",
       "    </tr>\n",
       "    <tr>\n",
       "      <th>sport</th>\n",
       "      <td>21463.000</td>\n",
       "      <td>373.062</td>\n",
       "      <td>462.814</td>\n",
       "      <td>3.860</td>\n",
       "      <td>127.110</td>\n",
       "      <td>205.900</td>\n",
       "      <td>411.590</td>\n",
       "      <td>2573.810</td>\n",
       "    </tr>\n",
       "    <tr>\n",
       "      <th>stationery</th>\n",
       "      <td>1190.000</td>\n",
       "      <td>20.200</td>\n",
       "      <td>33.296</td>\n",
       "      <td>1.340</td>\n",
       "      <td>5.910</td>\n",
       "      <td>11.300</td>\n",
       "      <td>21.590</td>\n",
       "      <td>395.090</td>\n",
       "    </tr>\n",
       "  </tbody>\n",
       "</table>\n",
       "</div>"
      ],
      "text/plain": [
       "                   count    mean     std  ...     50%     75%      max\n",
       "category                                  ...                         \n",
       "accessories    37252.000  58.472  72.625  ...  43.760  70.790 1717.160\n",
       "apparel       196575.000  81.855  45.708  ...  74.390 104.760  913.790\n",
       "appliances    721308.000 209.389 237.123  ... 134.060 295.750 2574.040\n",
       "auto          140719.000 138.804 130.301  ... 121.240 154.440 2165.760\n",
       "computers     317266.000 477.434 471.794  ... 337.170 680.510 2574.040\n",
       "construction  105128.000 156.078 216.971  ...  90.070 165.410 2571.160\n",
       "country_yard    1870.000 257.899 196.855  ... 228.510 320.190 2426.320\n",
       "electronics  2388942.000 402.238 392.515  ... 247.080 534.380 2574.070\n",
       "furniture     163112.000 252.226 252.193  ... 167.310 334.370 2574.040\n",
       "kids           71961.000 148.672 196.856  ...  77.220 171.460 2391.310\n",
       "medicine        2252.000  50.646  38.222  ...  40.930  51.430  372.850\n",
       "sport          21463.000 373.062 462.814  ... 205.900 411.590 2573.810\n",
       "stationery      1190.000  20.200  33.296  ...  11.300  21.590  395.090\n",
       "\n",
       "[13 rows x 8 columns]"
      ]
     },
     "execution_count": 90,
     "metadata": {
      "tags": []
     },
     "output_type": "execute_result"
    }
   ],
   "source": [
    "df_preprocessed.groupby('category')['price'].describe()"
   ]
  },
  {
   "cell_type": "code",
   "execution_count": null,
   "metadata": {
    "colab": {
     "base_uri": "https://localhost:8080/",
     "height": 1000
    },
    "id": "RFBRiw2yoVG_",
    "outputId": "2f82af5c-7c4c-49cb-d6a0-d208b4c57fd1"
   },
   "outputs": [
    {
     "data": {
      "text/html": [
       "<div>\n",
       "<style scoped>\n",
       "    .dataframe tbody tr th:only-of-type {\n",
       "        vertical-align: middle;\n",
       "    }\n",
       "\n",
       "    .dataframe tbody tr th {\n",
       "        vertical-align: top;\n",
       "    }\n",
       "\n",
       "    .dataframe thead th {\n",
       "        text-align: right;\n",
       "    }\n",
       "</style>\n",
       "<table border=\"1\" class=\"dataframe\">\n",
       "  <thead>\n",
       "    <tr style=\"text-align: right;\">\n",
       "      <th></th>\n",
       "      <th>count</th>\n",
       "      <th>mean</th>\n",
       "      <th>std</th>\n",
       "      <th>min</th>\n",
       "      <th>25%</th>\n",
       "      <th>50%</th>\n",
       "      <th>75%</th>\n",
       "      <th>max</th>\n",
       "    </tr>\n",
       "    <tr>\n",
       "      <th>product</th>\n",
       "      <th></th>\n",
       "      <th></th>\n",
       "      <th></th>\n",
       "      <th></th>\n",
       "      <th></th>\n",
       "      <th></th>\n",
       "      <th></th>\n",
       "      <th></th>\n",
       "    </tr>\n",
       "  </thead>\n",
       "  <tbody>\n",
       "    <tr>\n",
       "      <th>accessories</th>\n",
       "      <td>140719.000</td>\n",
       "      <td>138.804</td>\n",
       "      <td>130.301</td>\n",
       "      <td>5.920</td>\n",
       "      <td>64.090</td>\n",
       "      <td>121.240</td>\n",
       "      <td>154.440</td>\n",
       "      <td>2165.760</td>\n",
       "    </tr>\n",
       "    <tr>\n",
       "      <th>audio</th>\n",
       "      <td>238248.000</td>\n",
       "      <td>117.313</td>\n",
       "      <td>169.170</td>\n",
       "      <td>0.880</td>\n",
       "      <td>33.210</td>\n",
       "      <td>83.630</td>\n",
       "      <td>160.880</td>\n",
       "      <td>2573.810</td>\n",
       "    </tr>\n",
       "    <tr>\n",
       "      <th>bag</th>\n",
       "      <td>28996.000</td>\n",
       "      <td>59.394</td>\n",
       "      <td>78.259</td>\n",
       "      <td>1.860</td>\n",
       "      <td>17.990</td>\n",
       "      <td>42.490</td>\n",
       "      <td>76.960</td>\n",
       "      <td>1717.160</td>\n",
       "    </tr>\n",
       "    <tr>\n",
       "      <th>bathroom</th>\n",
       "      <td>4038.000</td>\n",
       "      <td>134.074</td>\n",
       "      <td>169.463</td>\n",
       "      <td>5.680</td>\n",
       "      <td>60.080</td>\n",
       "      <td>86.120</td>\n",
       "      <td>133.985</td>\n",
       "      <td>2379.140</td>\n",
       "    </tr>\n",
       "    <tr>\n",
       "      <th>bedroom</th>\n",
       "      <td>50545.000</td>\n",
       "      <td>181.872</td>\n",
       "      <td>156.211</td>\n",
       "      <td>2.550</td>\n",
       "      <td>100.360</td>\n",
       "      <td>148.240</td>\n",
       "      <td>208.450</td>\n",
       "      <td>2074.670</td>\n",
       "    </tr>\n",
       "    <tr>\n",
       "      <th>belt</th>\n",
       "      <td>413.000</td>\n",
       "      <td>63.160</td>\n",
       "      <td>76.792</td>\n",
       "      <td>15.190</td>\n",
       "      <td>25.740</td>\n",
       "      <td>25.740</td>\n",
       "      <td>52.510</td>\n",
       "      <td>252.520</td>\n",
       "    </tr>\n",
       "    <tr>\n",
       "      <th>bicycle</th>\n",
       "      <td>15093.000</td>\n",
       "      <td>389.416</td>\n",
       "      <td>494.840</td>\n",
       "      <td>3.860</td>\n",
       "      <td>115.810</td>\n",
       "      <td>195.630</td>\n",
       "      <td>450.720</td>\n",
       "      <td>2573.810</td>\n",
       "    </tr>\n",
       "    <tr>\n",
       "      <th>camera</th>\n",
       "      <td>5988.000</td>\n",
       "      <td>473.094</td>\n",
       "      <td>507.707</td>\n",
       "      <td>6.180</td>\n",
       "      <td>154.410</td>\n",
       "      <td>360.320</td>\n",
       "      <td>534.070</td>\n",
       "      <td>2567.050</td>\n",
       "    </tr>\n",
       "    <tr>\n",
       "      <th>carriage</th>\n",
       "      <td>31811.000</td>\n",
       "      <td>189.933</td>\n",
       "      <td>197.160</td>\n",
       "      <td>0.900</td>\n",
       "      <td>82.050</td>\n",
       "      <td>114.740</td>\n",
       "      <td>199.230</td>\n",
       "      <td>1956.270</td>\n",
       "    </tr>\n",
       "    <tr>\n",
       "      <th>cartrige</th>\n",
       "      <td>1190.000</td>\n",
       "      <td>20.200</td>\n",
       "      <td>33.296</td>\n",
       "      <td>1.340</td>\n",
       "      <td>5.910</td>\n",
       "      <td>11.300</td>\n",
       "      <td>21.590</td>\n",
       "      <td>395.090</td>\n",
       "    </tr>\n",
       "    <tr>\n",
       "      <th>clocks</th>\n",
       "      <td>188850.000</td>\n",
       "      <td>273.796</td>\n",
       "      <td>358.895</td>\n",
       "      <td>4.860</td>\n",
       "      <td>64.070</td>\n",
       "      <td>166.030</td>\n",
       "      <td>334.600</td>\n",
       "      <td>2574.070</td>\n",
       "    </tr>\n",
       "    <tr>\n",
       "      <th>components</th>\n",
       "      <td>52281.000</td>\n",
       "      <td>155.966</td>\n",
       "      <td>223.637</td>\n",
       "      <td>1.260</td>\n",
       "      <td>39.640</td>\n",
       "      <td>81.060</td>\n",
       "      <td>179.920</td>\n",
       "      <td>2504.710</td>\n",
       "    </tr>\n",
       "    <tr>\n",
       "      <th>costume</th>\n",
       "      <td>16011.000</td>\n",
       "      <td>96.173</td>\n",
       "      <td>49.169</td>\n",
       "      <td>38.610</td>\n",
       "      <td>51.480</td>\n",
       "      <td>77.220</td>\n",
       "      <td>136.430</td>\n",
       "      <td>244.540</td>\n",
       "    </tr>\n",
       "    <tr>\n",
       "      <th>cultivator</th>\n",
       "      <td>911.000</td>\n",
       "      <td>328.199</td>\n",
       "      <td>139.216</td>\n",
       "      <td>126.360</td>\n",
       "      <td>255.480</td>\n",
       "      <td>308.890</td>\n",
       "      <td>321.760</td>\n",
       "      <td>899.660</td>\n",
       "    </tr>\n",
       "    <tr>\n",
       "      <th>desktop</th>\n",
       "      <td>57178.000</td>\n",
       "      <td>484.334</td>\n",
       "      <td>517.757</td>\n",
       "      <td>3.690</td>\n",
       "      <td>83.630</td>\n",
       "      <td>331.030</td>\n",
       "      <td>684.680</td>\n",
       "      <td>2574.040</td>\n",
       "    </tr>\n",
       "    <tr>\n",
       "      <th>dolls</th>\n",
       "      <td>6606.000</td>\n",
       "      <td>42.511</td>\n",
       "      <td>27.012</td>\n",
       "      <td>4.730</td>\n",
       "      <td>24.767</td>\n",
       "      <td>39.640</td>\n",
       "      <td>55.857</td>\n",
       "      <td>155.470</td>\n",
       "    </tr>\n",
       "    <tr>\n",
       "      <th>dress</th>\n",
       "      <td>4367.000</td>\n",
       "      <td>94.596</td>\n",
       "      <td>131.814</td>\n",
       "      <td>25.480</td>\n",
       "      <td>33.210</td>\n",
       "      <td>66.930</td>\n",
       "      <td>92.670</td>\n",
       "      <td>913.790</td>\n",
       "    </tr>\n",
       "    <tr>\n",
       "      <th>ebooks</th>\n",
       "      <td>3575.000</td>\n",
       "      <td>157.165</td>\n",
       "      <td>68.275</td>\n",
       "      <td>72.020</td>\n",
       "      <td>102.710</td>\n",
       "      <td>152.460</td>\n",
       "      <td>185.070</td>\n",
       "      <td>408.980</td>\n",
       "    </tr>\n",
       "    <tr>\n",
       "      <th>environment</th>\n",
       "      <td>168928.000</td>\n",
       "      <td>145.443</td>\n",
       "      <td>149.679</td>\n",
       "      <td>3.350</td>\n",
       "      <td>64.020</td>\n",
       "      <td>102.870</td>\n",
       "      <td>174.170</td>\n",
       "      <td>2412.360</td>\n",
       "    </tr>\n",
       "    <tr>\n",
       "      <th>fmcg</th>\n",
       "      <td>3721.000</td>\n",
       "      <td>13.182</td>\n",
       "      <td>5.914</td>\n",
       "      <td>1.740</td>\n",
       "      <td>8.490</td>\n",
       "      <td>13.620</td>\n",
       "      <td>17.710</td>\n",
       "      <td>29.840</td>\n",
       "    </tr>\n",
       "    <tr>\n",
       "      <th>furniture</th>\n",
       "      <td>173.000</td>\n",
       "      <td>146.469</td>\n",
       "      <td>100.266</td>\n",
       "      <td>25.100</td>\n",
       "      <td>25.100</td>\n",
       "      <td>228.240</td>\n",
       "      <td>228.410</td>\n",
       "      <td>231.190</td>\n",
       "    </tr>\n",
       "    <tr>\n",
       "      <th>iron</th>\n",
       "      <td>27278.000</td>\n",
       "      <td>78.189</td>\n",
       "      <td>134.708</td>\n",
       "      <td>9.010</td>\n",
       "      <td>26.510</td>\n",
       "      <td>41.520</td>\n",
       "      <td>79.770</td>\n",
       "      <td>2445.340</td>\n",
       "    </tr>\n",
       "    <tr>\n",
       "      <th>ironing_board</th>\n",
       "      <td>6509.000</td>\n",
       "      <td>48.141</td>\n",
       "      <td>45.264</td>\n",
       "      <td>3.860</td>\n",
       "      <td>27.030</td>\n",
       "      <td>38.590</td>\n",
       "      <td>51.450</td>\n",
       "      <td>347.470</td>\n",
       "    </tr>\n",
       "    <tr>\n",
       "      <th>jacket</th>\n",
       "      <td>49.000</td>\n",
       "      <td>53.163</td>\n",
       "      <td>9.669</td>\n",
       "      <td>43.230</td>\n",
       "      <td>50.430</td>\n",
       "      <td>50.430</td>\n",
       "      <td>50.430</td>\n",
       "      <td>72.050</td>\n",
       "    </tr>\n",
       "    <tr>\n",
       "      <th>jeans</th>\n",
       "      <td>6814.000</td>\n",
       "      <td>46.460</td>\n",
       "      <td>16.510</td>\n",
       "      <td>25.740</td>\n",
       "      <td>40.160</td>\n",
       "      <td>46.080</td>\n",
       "      <td>52.000</td>\n",
       "      <td>226.520</td>\n",
       "    </tr>\n",
       "    <tr>\n",
       "      <th>jumper</th>\n",
       "      <td>352.000</td>\n",
       "      <td>152.077</td>\n",
       "      <td>128.058</td>\n",
       "      <td>18.020</td>\n",
       "      <td>38.610</td>\n",
       "      <td>38.610</td>\n",
       "      <td>252.260</td>\n",
       "      <td>373.240</td>\n",
       "    </tr>\n",
       "    <tr>\n",
       "      <th>kitchen</th>\n",
       "      <td>503526.000</td>\n",
       "      <td>243.184</td>\n",
       "      <td>254.739</td>\n",
       "      <td>5.120</td>\n",
       "      <td>64.330</td>\n",
       "      <td>192.770</td>\n",
       "      <td>321.730</td>\n",
       "      <td>2574.040</td>\n",
       "    </tr>\n",
       "    <tr>\n",
       "      <th>lawn_mower</th>\n",
       "      <td>786.000</td>\n",
       "      <td>200.945</td>\n",
       "      <td>236.378</td>\n",
       "      <td>34.840</td>\n",
       "      <td>91.330</td>\n",
       "      <td>124.270</td>\n",
       "      <td>205.930</td>\n",
       "      <td>2426.320</td>\n",
       "    </tr>\n",
       "    <tr>\n",
       "      <th>living_room</th>\n",
       "      <td>77767.000</td>\n",
       "      <td>349.677</td>\n",
       "      <td>286.010</td>\n",
       "      <td>7.720</td>\n",
       "      <td>154.420</td>\n",
       "      <td>270.280</td>\n",
       "      <td>468.480</td>\n",
       "      <td>2574.040</td>\n",
       "    </tr>\n",
       "    <tr>\n",
       "      <th>notebook</th>\n",
       "      <td>156174.000</td>\n",
       "      <td>683.428</td>\n",
       "      <td>464.615</td>\n",
       "      <td>5.640</td>\n",
       "      <td>352.960</td>\n",
       "      <td>540.530</td>\n",
       "      <td>849.160</td>\n",
       "      <td>2574.040</td>\n",
       "    </tr>\n",
       "    <tr>\n",
       "      <th>peripherals</th>\n",
       "      <td>52196.000</td>\n",
       "      <td>165.747</td>\n",
       "      <td>209.122</td>\n",
       "      <td>1.300</td>\n",
       "      <td>36.010</td>\n",
       "      <td>124.120</td>\n",
       "      <td>205.410</td>\n",
       "      <td>2470.850</td>\n",
       "    </tr>\n",
       "    <tr>\n",
       "      <th>personal</th>\n",
       "      <td>24732.000</td>\n",
       "      <td>34.993</td>\n",
       "      <td>35.159</td>\n",
       "      <td>3.350</td>\n",
       "      <td>12.070</td>\n",
       "      <td>23.140</td>\n",
       "      <td>45.220</td>\n",
       "      <td>463.310</td>\n",
       "    </tr>\n",
       "    <tr>\n",
       "      <th>scarf</th>\n",
       "      <td>476.000</td>\n",
       "      <td>23.415</td>\n",
       "      <td>4.124</td>\n",
       "      <td>12.610</td>\n",
       "      <td>25.480</td>\n",
       "      <td>25.480</td>\n",
       "      <td>25.480</td>\n",
       "      <td>25.480</td>\n",
       "    </tr>\n",
       "    <tr>\n",
       "      <th>sewing_machine</th>\n",
       "      <td>19772.000</td>\n",
       "      <td>236.075</td>\n",
       "      <td>324.688</td>\n",
       "      <td>61.780</td>\n",
       "      <td>101.030</td>\n",
       "      <td>133.280</td>\n",
       "      <td>189.583</td>\n",
       "      <td>2571.490</td>\n",
       "    </tr>\n",
       "    <tr>\n",
       "      <th>shirt</th>\n",
       "      <td>1453.000</td>\n",
       "      <td>47.539</td>\n",
       "      <td>36.444</td>\n",
       "      <td>18.900</td>\n",
       "      <td>29.600</td>\n",
       "      <td>29.600</td>\n",
       "      <td>32.180</td>\n",
       "      <td>189.190</td>\n",
       "    </tr>\n",
       "    <tr>\n",
       "      <th>shoes</th>\n",
       "      <td>157040.000</td>\n",
       "      <td>84.669</td>\n",
       "      <td>38.558</td>\n",
       "      <td>6.950</td>\n",
       "      <td>53.330</td>\n",
       "      <td>79.020</td>\n",
       "      <td>107.850</td>\n",
       "      <td>514.560</td>\n",
       "    </tr>\n",
       "    <tr>\n",
       "      <th>shorts</th>\n",
       "      <td>74.000</td>\n",
       "      <td>11.807</td>\n",
       "      <td>6.773</td>\n",
       "      <td>3.860</td>\n",
       "      <td>4.380</td>\n",
       "      <td>11.810</td>\n",
       "      <td>16.090</td>\n",
       "      <td>32.690</td>\n",
       "    </tr>\n",
       "    <tr>\n",
       "      <th>skates</th>\n",
       "      <td>9848.000</td>\n",
       "      <td>324.616</td>\n",
       "      <td>279.701</td>\n",
       "      <td>12.870</td>\n",
       "      <td>82.370</td>\n",
       "      <td>337.690</td>\n",
       "      <td>369.702</td>\n",
       "      <td>2391.310</td>\n",
       "    </tr>\n",
       "    <tr>\n",
       "      <th>ski</th>\n",
       "      <td>340.000</td>\n",
       "      <td>271.938</td>\n",
       "      <td>207.702</td>\n",
       "      <td>32.430</td>\n",
       "      <td>128.450</td>\n",
       "      <td>246.850</td>\n",
       "      <td>349.820</td>\n",
       "      <td>1286.780</td>\n",
       "    </tr>\n",
       "    <tr>\n",
       "      <th>skirt</th>\n",
       "      <td>102.000</td>\n",
       "      <td>26.009</td>\n",
       "      <td>7.899</td>\n",
       "      <td>16.730</td>\n",
       "      <td>16.730</td>\n",
       "      <td>30.610</td>\n",
       "      <td>30.610</td>\n",
       "      <td>43.730</td>\n",
       "    </tr>\n",
       "    <tr>\n",
       "      <th>smartphone</th>\n",
       "      <td>1712419.000</td>\n",
       "      <td>463.157</td>\n",
       "      <td>401.040</td>\n",
       "      <td>35.750</td>\n",
       "      <td>172.220</td>\n",
       "      <td>272.050</td>\n",
       "      <td>717.440</td>\n",
       "      <td>2110.450</td>\n",
       "    </tr>\n",
       "    <tr>\n",
       "      <th>snowboard</th>\n",
       "      <td>440.000</td>\n",
       "      <td>252.495</td>\n",
       "      <td>103.521</td>\n",
       "      <td>52.910</td>\n",
       "      <td>187.910</td>\n",
       "      <td>252.260</td>\n",
       "      <td>324.080</td>\n",
       "      <td>669.000</td>\n",
       "    </tr>\n",
       "    <tr>\n",
       "      <th>sock</th>\n",
       "      <td>279.000</td>\n",
       "      <td>74.022</td>\n",
       "      <td>79.606</td>\n",
       "      <td>17.860</td>\n",
       "      <td>21.880</td>\n",
       "      <td>33.460</td>\n",
       "      <td>93.260</td>\n",
       "      <td>525.110</td>\n",
       "    </tr>\n",
       "    <tr>\n",
       "      <th>swing</th>\n",
       "      <td>4747.000</td>\n",
       "      <td>132.094</td>\n",
       "      <td>110.255</td>\n",
       "      <td>15.680</td>\n",
       "      <td>61.495</td>\n",
       "      <td>89.500</td>\n",
       "      <td>197.430</td>\n",
       "      <td>643.140</td>\n",
       "    </tr>\n",
       "    <tr>\n",
       "      <th>tablet</th>\n",
       "      <td>45449.000</td>\n",
       "      <td>317.048</td>\n",
       "      <td>340.871</td>\n",
       "      <td>14.550</td>\n",
       "      <td>110.430</td>\n",
       "      <td>168.340</td>\n",
       "      <td>411.570</td>\n",
       "      <td>2574.040</td>\n",
       "    </tr>\n",
       "    <tr>\n",
       "      <th>telephone</th>\n",
       "      <td>37004.000</td>\n",
       "      <td>35.156</td>\n",
       "      <td>23.356</td>\n",
       "      <td>6.360</td>\n",
       "      <td>17.710</td>\n",
       "      <td>27.640</td>\n",
       "      <td>48.690</td>\n",
       "      <td>118.830</td>\n",
       "    </tr>\n",
       "    <tr>\n",
       "      <th>tennis</th>\n",
       "      <td>429.000</td>\n",
       "      <td>58.754</td>\n",
       "      <td>51.637</td>\n",
       "      <td>6.440</td>\n",
       "      <td>24.190</td>\n",
       "      <td>43.030</td>\n",
       "      <td>75.940</td>\n",
       "      <td>257.150</td>\n",
       "    </tr>\n",
       "    <tr>\n",
       "      <th>tools</th>\n",
       "      <td>103242.000</td>\n",
       "      <td>156.929</td>\n",
       "      <td>215.831</td>\n",
       "      <td>1.020</td>\n",
       "      <td>51.460</td>\n",
       "      <td>90.070</td>\n",
       "      <td>165.770</td>\n",
       "      <td>2571.160</td>\n",
       "    </tr>\n",
       "    <tr>\n",
       "      <th>toys</th>\n",
       "      <td>15228.000</td>\n",
       "      <td>33.025</td>\n",
       "      <td>28.494</td>\n",
       "      <td>2.020</td>\n",
       "      <td>14.290</td>\n",
       "      <td>25.710</td>\n",
       "      <td>43.730</td>\n",
       "      <td>344.410</td>\n",
       "    </tr>\n",
       "    <tr>\n",
       "      <th>trainer</th>\n",
       "      <td>5161.000</td>\n",
       "      <td>368.303</td>\n",
       "      <td>399.778</td>\n",
       "      <td>46.330</td>\n",
       "      <td>168.210</td>\n",
       "      <td>244.770</td>\n",
       "      <td>398.980</td>\n",
       "      <td>2478.030</td>\n",
       "    </tr>\n",
       "    <tr>\n",
       "      <th>trousers</th>\n",
       "      <td>1864.000</td>\n",
       "      <td>66.718</td>\n",
       "      <td>52.830</td>\n",
       "      <td>16.730</td>\n",
       "      <td>39.900</td>\n",
       "      <td>60.230</td>\n",
       "      <td>73.340</td>\n",
       "      <td>455.610</td>\n",
       "    </tr>\n",
       "    <tr>\n",
       "      <th>tshirt</th>\n",
       "      <td>2201.000</td>\n",
       "      <td>45.121</td>\n",
       "      <td>31.822</td>\n",
       "      <td>3.470</td>\n",
       "      <td>33.440</td>\n",
       "      <td>41.160</td>\n",
       "      <td>45.020</td>\n",
       "      <td>244.540</td>\n",
       "    </tr>\n",
       "    <tr>\n",
       "      <th>umbrella</th>\n",
       "      <td>530.000</td>\n",
       "      <td>25.489</td>\n",
       "      <td>0.344</td>\n",
       "      <td>17.760</td>\n",
       "      <td>25.480</td>\n",
       "      <td>25.480</td>\n",
       "      <td>25.480</td>\n",
       "      <td>25.710</td>\n",
       "    </tr>\n",
       "    <tr>\n",
       "      <th>underwear</th>\n",
       "      <td>5080.000</td>\n",
       "      <td>22.537</td>\n",
       "      <td>9.479</td>\n",
       "      <td>9.000</td>\n",
       "      <td>14.280</td>\n",
       "      <td>21.900</td>\n",
       "      <td>30.160</td>\n",
       "      <td>47.590</td>\n",
       "    </tr>\n",
       "    <tr>\n",
       "      <th>universal</th>\n",
       "      <td>1325.000</td>\n",
       "      <td>188.249</td>\n",
       "      <td>362.531</td>\n",
       "      <td>5.790</td>\n",
       "      <td>26.260</td>\n",
       "      <td>49.680</td>\n",
       "      <td>131.250</td>\n",
       "      <td>2570.180</td>\n",
       "    </tr>\n",
       "    <tr>\n",
       "      <th>video</th>\n",
       "      <td>160984.000</td>\n",
       "      <td>432.376</td>\n",
       "      <td>355.574</td>\n",
       "      <td>1.260</td>\n",
       "      <td>218.540</td>\n",
       "      <td>369.370</td>\n",
       "      <td>493.940</td>\n",
       "      <td>2574.040</td>\n",
       "    </tr>\n",
       "    <tr>\n",
       "      <th>wallet</th>\n",
       "      <td>7726.000</td>\n",
       "      <td>57.272</td>\n",
       "      <td>48.650</td>\n",
       "      <td>15.440</td>\n",
       "      <td>36.040</td>\n",
       "      <td>46.330</td>\n",
       "      <td>61.780</td>\n",
       "      <td>429.870</td>\n",
       "    </tr>\n",
       "  </tbody>\n",
       "</table>\n",
       "</div>"
      ],
      "text/plain": [
       "                     count    mean     std  ...     50%     75%      max\n",
       "product                                     ...                         \n",
       "accessories     140719.000 138.804 130.301  ... 121.240 154.440 2165.760\n",
       "audio           238248.000 117.313 169.170  ...  83.630 160.880 2573.810\n",
       "bag              28996.000  59.394  78.259  ...  42.490  76.960 1717.160\n",
       "bathroom          4038.000 134.074 169.463  ...  86.120 133.985 2379.140\n",
       "bedroom          50545.000 181.872 156.211  ... 148.240 208.450 2074.670\n",
       "belt               413.000  63.160  76.792  ...  25.740  52.510  252.520\n",
       "bicycle          15093.000 389.416 494.840  ... 195.630 450.720 2573.810\n",
       "camera            5988.000 473.094 507.707  ... 360.320 534.070 2567.050\n",
       "carriage         31811.000 189.933 197.160  ... 114.740 199.230 1956.270\n",
       "cartrige          1190.000  20.200  33.296  ...  11.300  21.590  395.090\n",
       "clocks          188850.000 273.796 358.895  ... 166.030 334.600 2574.070\n",
       "components       52281.000 155.966 223.637  ...  81.060 179.920 2504.710\n",
       "costume          16011.000  96.173  49.169  ...  77.220 136.430  244.540\n",
       "cultivator         911.000 328.199 139.216  ... 308.890 321.760  899.660\n",
       "desktop          57178.000 484.334 517.757  ... 331.030 684.680 2574.040\n",
       "dolls             6606.000  42.511  27.012  ...  39.640  55.857  155.470\n",
       "dress             4367.000  94.596 131.814  ...  66.930  92.670  913.790\n",
       "ebooks            3575.000 157.165  68.275  ... 152.460 185.070  408.980\n",
       "environment     168928.000 145.443 149.679  ... 102.870 174.170 2412.360\n",
       "fmcg              3721.000  13.182   5.914  ...  13.620  17.710   29.840\n",
       "furniture          173.000 146.469 100.266  ... 228.240 228.410  231.190\n",
       "iron             27278.000  78.189 134.708  ...  41.520  79.770 2445.340\n",
       "ironing_board     6509.000  48.141  45.264  ...  38.590  51.450  347.470\n",
       "jacket              49.000  53.163   9.669  ...  50.430  50.430   72.050\n",
       "jeans             6814.000  46.460  16.510  ...  46.080  52.000  226.520\n",
       "jumper             352.000 152.077 128.058  ...  38.610 252.260  373.240\n",
       "kitchen         503526.000 243.184 254.739  ... 192.770 321.730 2574.040\n",
       "lawn_mower         786.000 200.945 236.378  ... 124.270 205.930 2426.320\n",
       "living_room      77767.000 349.677 286.010  ... 270.280 468.480 2574.040\n",
       "notebook        156174.000 683.428 464.615  ... 540.530 849.160 2574.040\n",
       "peripherals      52196.000 165.747 209.122  ... 124.120 205.410 2470.850\n",
       "personal         24732.000  34.993  35.159  ...  23.140  45.220  463.310\n",
       "scarf              476.000  23.415   4.124  ...  25.480  25.480   25.480\n",
       "sewing_machine   19772.000 236.075 324.688  ... 133.280 189.583 2571.490\n",
       "shirt             1453.000  47.539  36.444  ...  29.600  32.180  189.190\n",
       "shoes           157040.000  84.669  38.558  ...  79.020 107.850  514.560\n",
       "shorts              74.000  11.807   6.773  ...  11.810  16.090   32.690\n",
       "skates            9848.000 324.616 279.701  ... 337.690 369.702 2391.310\n",
       "ski                340.000 271.938 207.702  ... 246.850 349.820 1286.780\n",
       "skirt              102.000  26.009   7.899  ...  30.610  30.610   43.730\n",
       "smartphone     1712419.000 463.157 401.040  ... 272.050 717.440 2110.450\n",
       "snowboard          440.000 252.495 103.521  ... 252.260 324.080  669.000\n",
       "sock               279.000  74.022  79.606  ...  33.460  93.260  525.110\n",
       "swing             4747.000 132.094 110.255  ...  89.500 197.430  643.140\n",
       "tablet           45449.000 317.048 340.871  ... 168.340 411.570 2574.040\n",
       "telephone        37004.000  35.156  23.356  ...  27.640  48.690  118.830\n",
       "tennis             429.000  58.754  51.637  ...  43.030  75.940  257.150\n",
       "tools           103242.000 156.929 215.831  ...  90.070 165.770 2571.160\n",
       "toys             15228.000  33.025  28.494  ...  25.710  43.730  344.410\n",
       "trainer           5161.000 368.303 399.778  ... 244.770 398.980 2478.030\n",
       "trousers          1864.000  66.718  52.830  ...  60.230  73.340  455.610\n",
       "tshirt            2201.000  45.121  31.822  ...  41.160  45.020  244.540\n",
       "umbrella           530.000  25.489   0.344  ...  25.480  25.480   25.710\n",
       "underwear         5080.000  22.537   9.479  ...  21.900  30.160   47.590\n",
       "universal         1325.000 188.249 362.531  ...  49.680 131.250 2570.180\n",
       "video           160984.000 432.376 355.574  ... 369.370 493.940 2574.040\n",
       "wallet            7726.000  57.272  48.650  ...  46.330  61.780  429.870\n",
       "\n",
       "[57 rows x 8 columns]"
      ]
     },
     "execution_count": 91,
     "metadata": {
      "tags": []
     },
     "output_type": "execute_result"
    }
   ],
   "source": [
    "df_preprocessed.groupby('product')['price'].describe()"
   ]
  },
  {
   "cell_type": "code",
   "execution_count": null,
   "metadata": {
    "id": "3dlA776eoP6N"
   },
   "outputs": [],
   "source": []
  },
  {
   "cell_type": "code",
   "execution_count": null,
   "metadata": {
    "id": "NHE9HU2koP3p"
   },
   "outputs": [],
   "source": []
  },
  {
   "cell_type": "code",
   "execution_count": null,
   "metadata": {
    "colab": {
     "base_uri": "https://localhost:8080/"
    },
    "id": "b2BVh6JUcJ41",
    "outputId": "9f64988d-78b2-4c4b-94b3-282248ad4ece"
   },
   "outputs": [
    {
     "data": {
      "text/plain": [
       "18205"
      ]
     },
     "execution_count": 76,
     "metadata": {
      "tags": []
     },
     "output_type": "execute_result"
    }
   ],
   "source": [
    "menor_siete = df_preprocessed[df_preprocessed['price']<=7]\n",
    "menor_siete.shape[0]"
   ]
  },
  {
   "cell_type": "code",
   "execution_count": null,
   "metadata": {
    "colab": {
     "base_uri": "https://localhost:8080/"
    },
    "id": "pBmwtdxBdjy7",
    "outputId": "3db78358-006c-4c5b-8e0a-ed8e495a9654"
   },
   "outputs": [
    {
     "data": {
      "text/plain": [
       "['accessories.bag',\n",
       " 'kids.toys',\n",
       " 'computers.components.cooler',\n",
       " 'electronics.audio.headphone',\n",
       " 'computers.peripherals.mouse',\n",
       " 'construction.tools.light',\n",
       " 'appliances.kitchen.kettle',\n",
       " 'kids.fmcg.diapers',\n",
       " 'furniture.bedroom.blanket',\n",
       " 'computers.desktop',\n",
       " 'appliances.ironing_board',\n",
       " 'furniture.bedroom.pillow',\n",
       " 'computers.peripherals.camera',\n",
       " 'apparel.shorts',\n",
       " 'electronics.telephone',\n",
       " 'computers.peripherals.keyboard',\n",
       " 'electronics.audio.microphone',\n",
       " 'stationery.cartrige',\n",
       " 'computers.components.memory',\n",
       " 'kids.dolls',\n",
       " 'appliances.personal.scales',\n",
       " 'furniture.kitchen.chair',\n",
       " 'construction.tools.pump',\n",
       " 'appliances.personal.hair_cutter',\n",
       " 'apparel.tshirt',\n",
       " 'appliances.environment.air_conditioner',\n",
       " 'furniture.universal.light',\n",
       " 'auto.accessories.anti_freeze',\n",
       " 'appliances.environment.air_heater',\n",
       " 'construction.components.faucet',\n",
       " 'kids.carriage',\n",
       " 'sport.tennis',\n",
       " 'electronics.video.tv',\n",
       " 'apparel.shoes',\n",
       " 'sport.bicycle',\n",
       " 'electronics.clocks',\n",
       " 'electronics.camera.video',\n",
       " 'computers.notebook',\n",
       " 'appliances.environment.water_heater',\n",
       " 'furniture.bathroom.bath',\n",
       " 'appliances.kitchen.refrigerators']"
      ]
     },
     "execution_count": 77,
     "metadata": {
      "tags": []
     },
     "output_type": "execute_result"
    }
   ],
   "source": [
    "lista_me_siete = menor_siete.category_code.unique().tolist()\n",
    "lista_me_siete"
   ]
  },
  {
   "cell_type": "code",
   "execution_count": null,
   "metadata": {
    "id": "GNOOhsfTecbk"
   },
   "outputs": [],
   "source": [
    "df_menor_siete = df_preprocessed[df_preprocessed['category_code'].isin(lista_me_siete)]"
   ]
  },
  {
   "cell_type": "code",
   "execution_count": null,
   "metadata": {
    "colab": {
     "base_uri": "https://localhost:8080/",
     "height": 1000
    },
    "id": "M4OHC6Vycxli",
    "outputId": "98ed6e89-5fe8-4e2f-a04c-b62c2ff3f692"
   },
   "outputs": [
    {
     "data": {
      "text/html": [
       "<div>\n",
       "<style scoped>\n",
       "    .dataframe tbody tr th:only-of-type {\n",
       "        vertical-align: middle;\n",
       "    }\n",
       "\n",
       "    .dataframe tbody tr th {\n",
       "        vertical-align: top;\n",
       "    }\n",
       "\n",
       "    .dataframe thead th {\n",
       "        text-align: right;\n",
       "    }\n",
       "</style>\n",
       "<table border=\"1\" class=\"dataframe\">\n",
       "  <thead>\n",
       "    <tr style=\"text-align: right;\">\n",
       "      <th></th>\n",
       "      <th>count</th>\n",
       "      <th>mean</th>\n",
       "      <th>std</th>\n",
       "      <th>min</th>\n",
       "      <th>25%</th>\n",
       "      <th>50%</th>\n",
       "      <th>75%</th>\n",
       "      <th>max</th>\n",
       "    </tr>\n",
       "    <tr>\n",
       "      <th>category_code</th>\n",
       "      <th></th>\n",
       "      <th></th>\n",
       "      <th></th>\n",
       "      <th></th>\n",
       "      <th></th>\n",
       "      <th></th>\n",
       "      <th></th>\n",
       "      <th></th>\n",
       "    </tr>\n",
       "  </thead>\n",
       "  <tbody>\n",
       "    <tr>\n",
       "      <th>accessories.bag</th>\n",
       "      <td>28996.000</td>\n",
       "      <td>59.394</td>\n",
       "      <td>78.259</td>\n",
       "      <td>1.860</td>\n",
       "      <td>17.990</td>\n",
       "      <td>42.490</td>\n",
       "      <td>76.960</td>\n",
       "      <td>1717.160</td>\n",
       "    </tr>\n",
       "    <tr>\n",
       "      <th>apparel.shoes</th>\n",
       "      <td>100053.000</td>\n",
       "      <td>89.518</td>\n",
       "      <td>36.280</td>\n",
       "      <td>6.950</td>\n",
       "      <td>62.810</td>\n",
       "      <td>86.230</td>\n",
       "      <td>113.000</td>\n",
       "      <td>514.560</td>\n",
       "    </tr>\n",
       "    <tr>\n",
       "      <th>apparel.shorts</th>\n",
       "      <td>74.000</td>\n",
       "      <td>11.807</td>\n",
       "      <td>6.773</td>\n",
       "      <td>3.860</td>\n",
       "      <td>4.380</td>\n",
       "      <td>11.810</td>\n",
       "      <td>16.090</td>\n",
       "      <td>32.690</td>\n",
       "    </tr>\n",
       "    <tr>\n",
       "      <th>apparel.tshirt</th>\n",
       "      <td>2201.000</td>\n",
       "      <td>45.121</td>\n",
       "      <td>31.822</td>\n",
       "      <td>3.470</td>\n",
       "      <td>33.440</td>\n",
       "      <td>41.160</td>\n",
       "      <td>45.020</td>\n",
       "      <td>244.540</td>\n",
       "    </tr>\n",
       "    <tr>\n",
       "      <th>appliances.environment.air_conditioner</th>\n",
       "      <td>4854.000</td>\n",
       "      <td>381.985</td>\n",
       "      <td>296.938</td>\n",
       "      <td>5.680</td>\n",
       "      <td>200.750</td>\n",
       "      <td>283.070</td>\n",
       "      <td>434.127</td>\n",
       "      <td>2412.360</td>\n",
       "    </tr>\n",
       "    <tr>\n",
       "      <th>appliances.environment.air_heater</th>\n",
       "      <td>24571.000</td>\n",
       "      <td>51.887</td>\n",
       "      <td>66.405</td>\n",
       "      <td>3.350</td>\n",
       "      <td>25.200</td>\n",
       "      <td>37.810</td>\n",
       "      <td>62.420</td>\n",
       "      <td>1740.910</td>\n",
       "    </tr>\n",
       "    <tr>\n",
       "      <th>appliances.environment.water_heater</th>\n",
       "      <td>21120.000</td>\n",
       "      <td>107.617</td>\n",
       "      <td>81.070</td>\n",
       "      <td>3.520</td>\n",
       "      <td>84.690</td>\n",
       "      <td>102.880</td>\n",
       "      <td>117.110</td>\n",
       "      <td>2074.210</td>\n",
       "    </tr>\n",
       "    <tr>\n",
       "      <th>appliances.ironing_board</th>\n",
       "      <td>6509.000</td>\n",
       "      <td>48.141</td>\n",
       "      <td>45.264</td>\n",
       "      <td>3.860</td>\n",
       "      <td>27.030</td>\n",
       "      <td>38.590</td>\n",
       "      <td>51.450</td>\n",
       "      <td>347.470</td>\n",
       "    </tr>\n",
       "    <tr>\n",
       "      <th>appliances.kitchen.kettle</th>\n",
       "      <td>30168.000</td>\n",
       "      <td>38.989</td>\n",
       "      <td>40.772</td>\n",
       "      <td>5.120</td>\n",
       "      <td>17.990</td>\n",
       "      <td>29.880</td>\n",
       "      <td>45.790</td>\n",
       "      <td>552.320</td>\n",
       "    </tr>\n",
       "    <tr>\n",
       "      <th>appliances.kitchen.refrigerators</th>\n",
       "      <td>118661.000</td>\n",
       "      <td>384.451</td>\n",
       "      <td>285.814</td>\n",
       "      <td>5.410</td>\n",
       "      <td>225.540</td>\n",
       "      <td>285.430</td>\n",
       "      <td>463.300</td>\n",
       "      <td>2574.040</td>\n",
       "    </tr>\n",
       "    <tr>\n",
       "      <th>appliances.personal.hair_cutter</th>\n",
       "      <td>10281.000</td>\n",
       "      <td>41.087</td>\n",
       "      <td>31.823</td>\n",
       "      <td>3.350</td>\n",
       "      <td>20.080</td>\n",
       "      <td>33.440</td>\n",
       "      <td>54.030</td>\n",
       "      <td>250.420</td>\n",
       "    </tr>\n",
       "    <tr>\n",
       "      <th>appliances.personal.scales</th>\n",
       "      <td>11593.000</td>\n",
       "      <td>20.833</td>\n",
       "      <td>19.584</td>\n",
       "      <td>5.120</td>\n",
       "      <td>10.270</td>\n",
       "      <td>13.900</td>\n",
       "      <td>25.430</td>\n",
       "      <td>188.650</td>\n",
       "    </tr>\n",
       "    <tr>\n",
       "      <th>auto.accessories.anti_freeze</th>\n",
       "      <td>33.000</td>\n",
       "      <td>20.991</td>\n",
       "      <td>7.320</td>\n",
       "      <td>5.920</td>\n",
       "      <td>23.040</td>\n",
       "      <td>23.040</td>\n",
       "      <td>25.740</td>\n",
       "      <td>25.740</td>\n",
       "    </tr>\n",
       "    <tr>\n",
       "      <th>computers.components.cooler</th>\n",
       "      <td>6929.000</td>\n",
       "      <td>52.705</td>\n",
       "      <td>49.855</td>\n",
       "      <td>1.260</td>\n",
       "      <td>15.060</td>\n",
       "      <td>43.730</td>\n",
       "      <td>83.120</td>\n",
       "      <td>447.000</td>\n",
       "    </tr>\n",
       "    <tr>\n",
       "      <th>computers.components.memory</th>\n",
       "      <td>6247.000</td>\n",
       "      <td>71.873</td>\n",
       "      <td>99.267</td>\n",
       "      <td>6.180</td>\n",
       "      <td>35.010</td>\n",
       "      <td>45.560</td>\n",
       "      <td>88.280</td>\n",
       "      <td>1028.770</td>\n",
       "    </tr>\n",
       "    <tr>\n",
       "      <th>computers.desktop</th>\n",
       "      <td>57178.000</td>\n",
       "      <td>484.334</td>\n",
       "      <td>517.757</td>\n",
       "      <td>3.690</td>\n",
       "      <td>83.630</td>\n",
       "      <td>331.030</td>\n",
       "      <td>684.680</td>\n",
       "      <td>2574.040</td>\n",
       "    </tr>\n",
       "    <tr>\n",
       "      <th>computers.notebook</th>\n",
       "      <td>156174.000</td>\n",
       "      <td>683.428</td>\n",
       "      <td>464.615</td>\n",
       "      <td>5.640</td>\n",
       "      <td>352.960</td>\n",
       "      <td>540.530</td>\n",
       "      <td>849.160</td>\n",
       "      <td>2574.040</td>\n",
       "    </tr>\n",
       "    <tr>\n",
       "      <th>computers.peripherals.camera</th>\n",
       "      <td>700.000</td>\n",
       "      <td>105.474</td>\n",
       "      <td>178.778</td>\n",
       "      <td>4.350</td>\n",
       "      <td>11.760</td>\n",
       "      <td>24.640</td>\n",
       "      <td>98.415</td>\n",
       "      <td>709.670</td>\n",
       "    </tr>\n",
       "    <tr>\n",
       "      <th>computers.peripherals.keyboard</th>\n",
       "      <td>7282.000</td>\n",
       "      <td>48.381</td>\n",
       "      <td>61.159</td>\n",
       "      <td>3.400</td>\n",
       "      <td>12.560</td>\n",
       "      <td>22.910</td>\n",
       "      <td>62.680</td>\n",
       "      <td>321.730</td>\n",
       "    </tr>\n",
       "    <tr>\n",
       "      <th>computers.peripherals.mouse</th>\n",
       "      <td>10389.000</td>\n",
       "      <td>33.469</td>\n",
       "      <td>69.509</td>\n",
       "      <td>1.300</td>\n",
       "      <td>6.530</td>\n",
       "      <td>16.480</td>\n",
       "      <td>36.010</td>\n",
       "      <td>893.600</td>\n",
       "    </tr>\n",
       "    <tr>\n",
       "      <th>construction.components.faucet</th>\n",
       "      <td>4138.000</td>\n",
       "      <td>77.476</td>\n",
       "      <td>185.526</td>\n",
       "      <td>5.680</td>\n",
       "      <td>22.470</td>\n",
       "      <td>36.460</td>\n",
       "      <td>70.270</td>\n",
       "      <td>2504.710</td>\n",
       "    </tr>\n",
       "    <tr>\n",
       "      <th>construction.tools.light</th>\n",
       "      <td>3277.000</td>\n",
       "      <td>32.158</td>\n",
       "      <td>45.788</td>\n",
       "      <td>1.020</td>\n",
       "      <td>7.700</td>\n",
       "      <td>17.400</td>\n",
       "      <td>29.830</td>\n",
       "      <td>296.180</td>\n",
       "    </tr>\n",
       "    <tr>\n",
       "      <th>construction.tools.pump</th>\n",
       "      <td>4747.000</td>\n",
       "      <td>145.648</td>\n",
       "      <td>285.725</td>\n",
       "      <td>4.790</td>\n",
       "      <td>36.010</td>\n",
       "      <td>79.140</td>\n",
       "      <td>120.980</td>\n",
       "      <td>2571.160</td>\n",
       "    </tr>\n",
       "    <tr>\n",
       "      <th>electronics.audio.headphone</th>\n",
       "      <td>170449.000</td>\n",
       "      <td>98.036</td>\n",
       "      <td>77.155</td>\n",
       "      <td>0.880</td>\n",
       "      <td>25.710</td>\n",
       "      <td>76.790</td>\n",
       "      <td>160.880</td>\n",
       "      <td>900.900</td>\n",
       "    </tr>\n",
       "    <tr>\n",
       "      <th>electronics.audio.microphone</th>\n",
       "      <td>4593.000</td>\n",
       "      <td>145.595</td>\n",
       "      <td>289.456</td>\n",
       "      <td>1.250</td>\n",
       "      <td>22.010</td>\n",
       "      <td>40.670</td>\n",
       "      <td>130.250</td>\n",
       "      <td>2573.790</td>\n",
       "    </tr>\n",
       "    <tr>\n",
       "      <th>electronics.camera.video</th>\n",
       "      <td>4625.000</td>\n",
       "      <td>385.458</td>\n",
       "      <td>441.894</td>\n",
       "      <td>6.180</td>\n",
       "      <td>123.490</td>\n",
       "      <td>308.370</td>\n",
       "      <td>462.560</td>\n",
       "      <td>2470.100</td>\n",
       "    </tr>\n",
       "    <tr>\n",
       "      <th>electronics.clocks</th>\n",
       "      <td>188850.000</td>\n",
       "      <td>273.796</td>\n",
       "      <td>358.895</td>\n",
       "      <td>4.860</td>\n",
       "      <td>64.070</td>\n",
       "      <td>166.030</td>\n",
       "      <td>334.600</td>\n",
       "      <td>2574.070</td>\n",
       "    </tr>\n",
       "    <tr>\n",
       "      <th>electronics.telephone</th>\n",
       "      <td>37004.000</td>\n",
       "      <td>35.156</td>\n",
       "      <td>23.356</td>\n",
       "      <td>6.360</td>\n",
       "      <td>17.710</td>\n",
       "      <td>27.640</td>\n",
       "      <td>48.690</td>\n",
       "      <td>118.830</td>\n",
       "    </tr>\n",
       "    <tr>\n",
       "      <th>electronics.video.tv</th>\n",
       "      <td>159384.000</td>\n",
       "      <td>429.887</td>\n",
       "      <td>352.451</td>\n",
       "      <td>1.260</td>\n",
       "      <td>218.510</td>\n",
       "      <td>369.370</td>\n",
       "      <td>493.930</td>\n",
       "      <td>2574.040</td>\n",
       "    </tr>\n",
       "    <tr>\n",
       "      <th>furniture.bathroom.bath</th>\n",
       "      <td>1637.000</td>\n",
       "      <td>182.156</td>\n",
       "      <td>147.576</td>\n",
       "      <td>5.680</td>\n",
       "      <td>93.730</td>\n",
       "      <td>122.230</td>\n",
       "      <td>251.320</td>\n",
       "      <td>1286.780</td>\n",
       "    </tr>\n",
       "    <tr>\n",
       "      <th>furniture.bedroom.blanket</th>\n",
       "      <td>3277.000</td>\n",
       "      <td>36.237</td>\n",
       "      <td>33.182</td>\n",
       "      <td>5.120</td>\n",
       "      <td>14.750</td>\n",
       "      <td>27.030</td>\n",
       "      <td>46.330</td>\n",
       "      <td>273.060</td>\n",
       "    </tr>\n",
       "    <tr>\n",
       "      <th>furniture.bedroom.pillow</th>\n",
       "      <td>3147.000</td>\n",
       "      <td>33.428</td>\n",
       "      <td>44.904</td>\n",
       "      <td>2.550</td>\n",
       "      <td>10.300</td>\n",
       "      <td>15.440</td>\n",
       "      <td>37.320</td>\n",
       "      <td>309.200</td>\n",
       "    </tr>\n",
       "    <tr>\n",
       "      <th>furniture.kitchen.chair</th>\n",
       "      <td>15704.000</td>\n",
       "      <td>74.577</td>\n",
       "      <td>82.419</td>\n",
       "      <td>5.890</td>\n",
       "      <td>28.080</td>\n",
       "      <td>43.730</td>\n",
       "      <td>86.230</td>\n",
       "      <td>839.120</td>\n",
       "    </tr>\n",
       "    <tr>\n",
       "      <th>furniture.universal.light</th>\n",
       "      <td>1325.000</td>\n",
       "      <td>188.249</td>\n",
       "      <td>362.531</td>\n",
       "      <td>5.790</td>\n",
       "      <td>26.260</td>\n",
       "      <td>49.680</td>\n",
       "      <td>131.250</td>\n",
       "      <td>2570.180</td>\n",
       "    </tr>\n",
       "    <tr>\n",
       "      <th>kids.carriage</th>\n",
       "      <td>31811.000</td>\n",
       "      <td>189.933</td>\n",
       "      <td>197.160</td>\n",
       "      <td>0.900</td>\n",
       "      <td>82.050</td>\n",
       "      <td>114.740</td>\n",
       "      <td>199.230</td>\n",
       "      <td>1956.270</td>\n",
       "    </tr>\n",
       "    <tr>\n",
       "      <th>kids.dolls</th>\n",
       "      <td>6606.000</td>\n",
       "      <td>42.511</td>\n",
       "      <td>27.012</td>\n",
       "      <td>4.730</td>\n",
       "      <td>24.767</td>\n",
       "      <td>39.640</td>\n",
       "      <td>55.857</td>\n",
       "      <td>155.470</td>\n",
       "    </tr>\n",
       "    <tr>\n",
       "      <th>kids.fmcg.diapers</th>\n",
       "      <td>3721.000</td>\n",
       "      <td>13.182</td>\n",
       "      <td>5.914</td>\n",
       "      <td>1.740</td>\n",
       "      <td>8.490</td>\n",
       "      <td>13.620</td>\n",
       "      <td>17.710</td>\n",
       "      <td>29.840</td>\n",
       "    </tr>\n",
       "    <tr>\n",
       "      <th>kids.toys</th>\n",
       "      <td>15228.000</td>\n",
       "      <td>33.025</td>\n",
       "      <td>28.494</td>\n",
       "      <td>2.020</td>\n",
       "      <td>14.290</td>\n",
       "      <td>25.710</td>\n",
       "      <td>43.730</td>\n",
       "      <td>344.410</td>\n",
       "    </tr>\n",
       "    <tr>\n",
       "      <th>sport.bicycle</th>\n",
       "      <td>15093.000</td>\n",
       "      <td>389.416</td>\n",
       "      <td>494.840</td>\n",
       "      <td>3.860</td>\n",
       "      <td>115.810</td>\n",
       "      <td>195.630</td>\n",
       "      <td>450.720</td>\n",
       "      <td>2573.810</td>\n",
       "    </tr>\n",
       "    <tr>\n",
       "      <th>sport.tennis</th>\n",
       "      <td>429.000</td>\n",
       "      <td>58.754</td>\n",
       "      <td>51.637</td>\n",
       "      <td>6.440</td>\n",
       "      <td>24.190</td>\n",
       "      <td>43.030</td>\n",
       "      <td>75.940</td>\n",
       "      <td>257.150</td>\n",
       "    </tr>\n",
       "    <tr>\n",
       "      <th>stationery.cartrige</th>\n",
       "      <td>1190.000</td>\n",
       "      <td>20.200</td>\n",
       "      <td>33.296</td>\n",
       "      <td>1.340</td>\n",
       "      <td>5.910</td>\n",
       "      <td>11.300</td>\n",
       "      <td>21.590</td>\n",
       "      <td>395.090</td>\n",
       "    </tr>\n",
       "  </tbody>\n",
       "</table>\n",
       "</div>"
      ],
      "text/plain": [
       "                                            count    mean  ...     75%      max\n",
       "category_code                                              ...                 \n",
       "accessories.bag                         28996.000  59.394  ...  76.960 1717.160\n",
       "apparel.shoes                          100053.000  89.518  ... 113.000  514.560\n",
       "apparel.shorts                             74.000  11.807  ...  16.090   32.690\n",
       "apparel.tshirt                           2201.000  45.121  ...  45.020  244.540\n",
       "appliances.environment.air_conditioner   4854.000 381.985  ... 434.127 2412.360\n",
       "appliances.environment.air_heater       24571.000  51.887  ...  62.420 1740.910\n",
       "appliances.environment.water_heater     21120.000 107.617  ... 117.110 2074.210\n",
       "appliances.ironing_board                 6509.000  48.141  ...  51.450  347.470\n",
       "appliances.kitchen.kettle               30168.000  38.989  ...  45.790  552.320\n",
       "appliances.kitchen.refrigerators       118661.000 384.451  ... 463.300 2574.040\n",
       "appliances.personal.hair_cutter         10281.000  41.087  ...  54.030  250.420\n",
       "appliances.personal.scales              11593.000  20.833  ...  25.430  188.650\n",
       "auto.accessories.anti_freeze               33.000  20.991  ...  25.740   25.740\n",
       "computers.components.cooler              6929.000  52.705  ...  83.120  447.000\n",
       "computers.components.memory              6247.000  71.873  ...  88.280 1028.770\n",
       "computers.desktop                       57178.000 484.334  ... 684.680 2574.040\n",
       "computers.notebook                     156174.000 683.428  ... 849.160 2574.040\n",
       "computers.peripherals.camera              700.000 105.474  ...  98.415  709.670\n",
       "computers.peripherals.keyboard           7282.000  48.381  ...  62.680  321.730\n",
       "computers.peripherals.mouse             10389.000  33.469  ...  36.010  893.600\n",
       "construction.components.faucet           4138.000  77.476  ...  70.270 2504.710\n",
       "construction.tools.light                 3277.000  32.158  ...  29.830  296.180\n",
       "construction.tools.pump                  4747.000 145.648  ... 120.980 2571.160\n",
       "electronics.audio.headphone            170449.000  98.036  ... 160.880  900.900\n",
       "electronics.audio.microphone             4593.000 145.595  ... 130.250 2573.790\n",
       "electronics.camera.video                 4625.000 385.458  ... 462.560 2470.100\n",
       "electronics.clocks                     188850.000 273.796  ... 334.600 2574.070\n",
       "electronics.telephone                   37004.000  35.156  ...  48.690  118.830\n",
       "electronics.video.tv                   159384.000 429.887  ... 493.930 2574.040\n",
       "furniture.bathroom.bath                  1637.000 182.156  ... 251.320 1286.780\n",
       "furniture.bedroom.blanket                3277.000  36.237  ...  46.330  273.060\n",
       "furniture.bedroom.pillow                 3147.000  33.428  ...  37.320  309.200\n",
       "furniture.kitchen.chair                 15704.000  74.577  ...  86.230  839.120\n",
       "furniture.universal.light                1325.000 188.249  ... 131.250 2570.180\n",
       "kids.carriage                           31811.000 189.933  ... 199.230 1956.270\n",
       "kids.dolls                               6606.000  42.511  ...  55.857  155.470\n",
       "kids.fmcg.diapers                        3721.000  13.182  ...  17.710   29.840\n",
       "kids.toys                               15228.000  33.025  ...  43.730  344.410\n",
       "sport.bicycle                           15093.000 389.416  ... 450.720 2573.810\n",
       "sport.tennis                              429.000  58.754  ...  75.940  257.150\n",
       "stationery.cartrige                      1190.000  20.200  ...  21.590  395.090\n",
       "\n",
       "[41 rows x 8 columns]"
      ]
     },
     "execution_count": 79,
     "metadata": {
      "tags": []
     },
     "output_type": "execute_result"
    }
   ],
   "source": [
    "df_menor_siete.groupby('category_code')['price'].describe()"
   ]
  },
  {
   "cell_type": "markdown",
   "metadata": {
    "id": "0fIQpLoyp9zM"
   },
   "source": [
    "\n",
    "\n",
    "## Analisis multi-variado"
   ]
  },
  {
   "cell_type": "code",
   "execution_count": 72,
   "metadata": {
    "colab": {
     "base_uri": "https://localhost:8080/",
     "height": 151
    },
    "id": "R_TztAhPllek",
    "outputId": "f80dc239-f0a3-4b9f-e44f-85352b29c3de"
   },
   "outputs": [
    {
     "data": {
      "text/html": [
       "<div>\n",
       "<style scoped>\n",
       "    .dataframe tbody tr th:only-of-type {\n",
       "        vertical-align: middle;\n",
       "    }\n",
       "\n",
       "    .dataframe tbody tr th {\n",
       "        vertical-align: top;\n",
       "    }\n",
       "\n",
       "    .dataframe thead th {\n",
       "        text-align: right;\n",
       "    }\n",
       "</style>\n",
       "<table border=\"1\" class=\"dataframe\">\n",
       "  <thead>\n",
       "    <tr style=\"text-align: right;\">\n",
       "      <th></th>\n",
       "      <th>event_type</th>\n",
       "      <th>product_id</th>\n",
       "      <th>category_id</th>\n",
       "      <th>brand</th>\n",
       "      <th>price</th>\n",
       "      <th>user_id</th>\n",
       "      <th>user_session</th>\n",
       "      <th>day_of_week</th>\n",
       "      <th>date</th>\n",
       "      <th>time</th>\n",
       "      <th>cat_code</th>\n",
       "      <th>category</th>\n",
       "      <th>product</th>\n",
       "    </tr>\n",
       "  </thead>\n",
       "  <tbody>\n",
       "    <tr>\n",
       "      <th>39054315</th>\n",
       "      <td>view</td>\n",
       "      <td>1004767</td>\n",
       "      <td>2053013555631882655</td>\n",
       "      <td>samsung</td>\n",
       "      <td>243.220</td>\n",
       "      <td>564343135</td>\n",
       "      <td>76be743b-f5cd-47a2-82eb-b489597df6ba</td>\n",
       "      <td>Tuesday</td>\n",
       "      <td>2019-10-29</td>\n",
       "      <td>07:06:41</td>\n",
       "      <td>100</td>\n",
       "      <td>electronics</td>\n",
       "      <td>smartphone</td>\n",
       "    </tr>\n",
       "  </tbody>\n",
       "</table>\n",
       "</div>"
      ],
      "text/plain": [
       "         event_type  product_id  ...     category     product\n",
       "39054315       view     1004767  ...  electronics  smartphone\n",
       "\n",
       "[1 rows x 13 columns]"
      ]
     },
     "execution_count": 72,
     "metadata": {
      "tags": []
     },
     "output_type": "execute_result"
    }
   ],
   "source": [
    "smartphone=df_preprocessed[(df_preprocessed['product']=='smartphone') & (df_preprocessed['event_type']=='view') ]\n",
    "smartphone.head(1)"
   ]
  },
  {
   "cell_type": "code",
   "execution_count": 74,
   "metadata": {
    "colab": {
     "base_uri": "https://localhost:8080/"
    },
    "id": "7uTkfLlJllX3",
    "outputId": "a60d6f72-e6d6-491c-c728-bc23cf00f1ed"
   },
   "outputs": [
    {
     "data": {
      "text/plain": [
       "39054315    True\n",
       "41227753    True\n",
       "42166149    True\n",
       "19399196    True\n",
       "36041219    True\n",
       "            ... \n",
       "42448036    True\n",
       "42448069    True\n",
       "42448106    True\n",
       "42448194    True\n",
       "42448262    True\n",
       "Name: event_type, Length: 1461173, dtype: bool"
      ]
     },
     "execution_count": 74,
     "metadata": {
      "tags": []
     },
     "output_type": "execute_result"
    }
   ],
   "source": [
    "view=smartphone['event_type']=='view'\n",
    "view"
   ]
  },
  {
   "cell_type": "code",
   "execution_count": 84,
   "metadata": {
    "colab": {
     "base_uri": "https://localhost:8080/"
    },
    "id": "LRtZDoDx-e0k",
    "outputId": "80b18e3e-f6e5-408f-93b5-794b824ae26d"
   },
   "outputs": [
    {
     "data": {
      "text/plain": [
       "day_of_week  event_type\n",
       "Friday       view          200733\n",
       "             cart           21355\n",
       "             purchase       15105\n",
       "Monday       view          187842\n",
       "             cart           17908\n",
       "             purchase       14302\n",
       "Saturday     view          191774\n",
       "             cart           19237\n",
       "             purchase       13802\n",
       "Sunday       view          197324\n",
       "             cart           19132\n",
       "             purchase       14113\n",
       "Thursday     view          224080\n",
       "             cart           20791\n",
       "             purchase       17255\n",
       "Tuesday      view          229334\n",
       "             cart           21453\n",
       "             purchase       17211\n",
       "Wednesday    view          230086\n",
       "             cart           21472\n",
       "             purchase       18110\n",
       "Name: event_type, dtype: int64"
      ]
     },
     "execution_count": 84,
     "metadata": {
      "tags": []
     },
     "output_type": "execute_result"
    }
   ],
   "source": [
    "smart = df_preprocessed[df_preprocessed['product']=='smartphone']\n",
    "smart.groupby('day_of_week')['event_type'].value_counts()"
   ]
  },
  {
   "cell_type": "code",
   "execution_count": null,
   "metadata": {
    "id": "9MbYPKDx-94r"
   },
   "outputs": [],
   "source": [
    "fig,ax=plt.subplots()"
   ]
  },
  {
   "cell_type": "code",
   "execution_count": 90,
   "metadata": {
    "id": "iCivjG9J_jbm"
   },
   "outputs": [],
   "source": [
    "vistas_smartp_porc = (df_preprocessed[(df_preprocessed['event_type']=='view') & (df_preprocessed['product']=='smartphone')].groupby('day_of_week').size())/len(df_preprocessed[(df_preprocessed['product']=='smartphone')])*100\n",
    "carrito_smartp_porc = (df_preprocessed[(df_preprocessed['event_type']=='cart') & (df_preprocessed['product']=='smartphone')].groupby('day_of_week').size())/len(df_preprocessed[(df_preprocessed['product']=='smartphone')])*100\n",
    "compras_smartp_porc = (df_preprocessed[(df_preprocessed['event_type']=='purchase') & (df_preprocessed['product']=='smartphone')].groupby('day_of_week').size())/len(df_preprocessed[(df_preprocessed['product']=='smartphone')])*100"
   ]
  },
  {
   "cell_type": "code",
   "execution_count": 91,
   "metadata": {
    "colab": {
     "base_uri": "https://localhost:8080/",
     "height": 645
    },
    "id": "6OzE6y-cAOkF",
    "outputId": "bb2e31a7-1147-4a30-8178-601c95a0ef97"
   },
   "outputs": [
    {
     "data": {
      "text/plain": [
       "<matplotlib.legend.Legend at 0x7fd58bb106d0>"
      ]
     },
     "execution_count": 91,
     "metadata": {
      "tags": []
     },
     "output_type": "execute_result"
    },
    {
     "data": {
      "image/png": "[encoded data removed]",
      "text/plain": [
       "<Figure size 1080x720 with 1 Axes>"
      ]
     },
     "metadata": {
      "tags": []
     },
     "output_type": "display_data"
    }
   ],
   "source": [
    "fig,ax=plt.subplots()\n",
    "vistas_smartp_porc.plot(figsize=(15,10),color='g',label='View')\n",
    "carrito_smartp_porc.plot(figsize=(15,10),label='Cart')\n",
    "compras_smartp_porc.plot(figsize=(15,10),color='r',label='Purchase')\n",
    "plt.title('Evento por dia de la semana')\n",
    "plt.legend()"
   ]
  },
  {
   "cell_type": "code",
   "execution_count": 85,
   "metadata": {
    "colab": {
     "base_uri": "https://localhost:8080/",
     "height": 645
    },
    "id": "pBI1DUBx9YIz",
    "outputId": "ba63c447-7f00-4aa9-e888-93781ebbdbc1"
   },
   "outputs": [
    {
     "data": {
      "text/plain": [
       "<matplotlib.legend.Legend at 0x7fd58b95ed50>"
      ]
     },
     "execution_count": 85,
     "metadata": {
      "tags": []
     },
     "output_type": "execute_result"
    },
    {
     "data": {
      "image/png": "[encoded data removed]",
      "text/plain": [
       "<Figure size 1080x720 with 1 Axes>"
      ]
     },
     "metadata": {
      "tags": []
     },
     "output_type": "display_data"
    }
   ],
   "source": [
    "fig,ax=plt.subplots()\n",
    "df_preprocessed[(df_preprocessed['event_type']=='view') & (df_preprocessed['product']=='smartphone')].groupby('day_of_week').size().plot(figsize=(15,10),color='g',label='View')\n",
    "df_preprocessed[(df_preprocessed['event_type']=='cart') & (df_preprocessed['product']=='smartphone')].groupby('day_of_week').size().plot(figsize=(15,10),label='Cart')\n",
    "df_preprocessed[(df_preprocessed['event_type']=='purchase') & (df_preprocessed['product']=='smartphone')].groupby('day_of_week').size().plot(figsize=(15,10),color='r',label='Purchase')\n",
    "plt.title('Evento por dia de la semana')\n",
    "plt.legend()"
   ]
  },
  {
   "cell_type": "code",
   "execution_count": 93,
   "metadata": {
    "colab": {
     "base_uri": "https://localhost:8080/",
     "height": 645
    },
    "id": "a4ykxd_vllUy",
    "outputId": "8795ec07-3b97-45cc-b5d1-b58220af0634"
   },
   "outputs": [
    {
     "data": {
      "text/plain": [
       "Text(0.5, 1.0, 'Evento por dia de la semana')"
      ]
     },
     "execution_count": 93,
     "metadata": {
      "tags": []
     },
     "output_type": "execute_result"
    },
    {
     "data": {
      "image/png": "[encoded data removed]",
      "text/plain": [
       "<Figure size 1080x720 with 3 Axes>"
      ]
     },
     "metadata": {
      "tags": []
     },
     "output_type": "display_data"
    }
   ],
   "source": [
    "fig,ax=plt.subplots()\n",
    "df_preprocessed[(df_preprocessed['event_type']=='view') & (df_preprocessed['product']=='smartphone')].groupby('day_of_week').size().plot(figsize=(15,10),ax=ax,color='g',label='View')\n",
    "ax2 = ax.twinx()\n",
    "df_preprocessed[(df_preprocessed['event_type']=='cart') & (df_preprocessed['product']=='smartphone')].groupby('day_of_week').size().plot(figsize=(15,10),ax=ax2,label='Cart')\n",
    "ax3 = ax.twinx()\n",
    "df_preprocessed[(df_preprocessed['event_type']=='purchase') & (df_preprocessed['product']=='smartphone')].groupby('day_of_week').size().plot(figsize=(15,10),ax=ax3,color='r',label='Purchase')\n",
    "plt.title('Evento por dia de la semana')\n"
   ]
  },
  {
   "cell_type": "code",
   "execution_count": 76,
   "metadata": {
    "colab": {
     "base_uri": "https://localhost:8080/",
     "height": 357
    },
    "id": "TP6AJJRCllQd",
    "outputId": "fa8433ba-0851-4c25-882e-a1cc4f4ad91d"
   },
   "outputs": [
    {
     "data": {
      "text/plain": [
       "<matplotlib.axes._subplots.AxesSubplot at 0x7fd58a423510>"
      ]
     },
     "execution_count": 76,
     "metadata": {
      "tags": []
     },
     "output_type": "execute_result"
    },
    {
     "data": {
      "image/png": "[encoded data removed]",
      "text/plain": [
       "<Figure size 720x360 with 1 Axes>"
      ]
     },
     "metadata": {
      "tags": []
     },
     "output_type": "display_data"
    }
   ],
   "source": [
    "df_preprocessed[(df_preprocessed['event_type']=='purchase') & (df_preprocessed['product']=='smartphone')].groupby('day_of_week').size().plot(figsize=(10,5))"
   ]
  },
  {
   "cell_type": "code",
   "execution_count": null,
   "metadata": {
    "colab": {
     "base_uri": "https://localhost:8080/",
     "height": 353
    },
    "id": "sqIPR9DSllM9",
    "outputId": "0dbaf1ba-d514-4682-9c9a-5da905795154"
   },
   "outputs": [
    {
     "data": {
      "text/plain": [
       "<matplotlib.axes._subplots.AxesSubplot at 0x7efc9e6f9c10>"
      ]
     },
     "execution_count": 56,
     "metadata": {
      "tags": []
     },
     "output_type": "execute_result"
    },
    {
     "data": {
      "image/png": "[encoded data removed]",
      "text/plain": [
       "<Figure size 720x360 with 1 Axes>"
      ]
     },
     "metadata": {
      "needs_background": "light",
      "tags": []
     },
     "output_type": "display_data"
    }
   ],
   "source": [
    "df_preprocessed[(df_preprocessed['event_type']=='cart') & (df_preprocessed['product']=='smartphone')].groupby('day_of_week').size().plot(figsize=(10,5))"
   ]
  },
  {
   "cell_type": "code",
   "execution_count": 94,
   "metadata": {
    "colab": {
     "base_uri": "https://localhost:8080/",
     "height": 151
    },
    "id": "g57CrFOwByFS",
    "outputId": "90282296-b980-40e1-c241-f3f87a3cf782"
   },
   "outputs": [
    {
     "data": {
      "text/html": [
       "<div>\n",
       "<style scoped>\n",
       "    .dataframe tbody tr th:only-of-type {\n",
       "        vertical-align: middle;\n",
       "    }\n",
       "\n",
       "    .dataframe tbody tr th {\n",
       "        vertical-align: top;\n",
       "    }\n",
       "\n",
       "    .dataframe thead th {\n",
       "        text-align: right;\n",
       "    }\n",
       "</style>\n",
       "<table border=\"1\" class=\"dataframe\">\n",
       "  <thead>\n",
       "    <tr style=\"text-align: right;\">\n",
       "      <th></th>\n",
       "      <th>event_type</th>\n",
       "      <th>product_id</th>\n",
       "      <th>category_id</th>\n",
       "      <th>brand</th>\n",
       "      <th>price</th>\n",
       "      <th>user_id</th>\n",
       "      <th>user_session</th>\n",
       "      <th>day_of_week</th>\n",
       "      <th>date</th>\n",
       "      <th>time</th>\n",
       "      <th>cat_code</th>\n",
       "      <th>category</th>\n",
       "      <th>product</th>\n",
       "    </tr>\n",
       "  </thead>\n",
       "  <tbody>\n",
       "    <tr>\n",
       "      <th>39054315</th>\n",
       "      <td>view</td>\n",
       "      <td>1004767</td>\n",
       "      <td>2053013555631882655</td>\n",
       "      <td>samsung</td>\n",
       "      <td>243.220</td>\n",
       "      <td>564343135</td>\n",
       "      <td>76be743b-f5cd-47a2-82eb-b489597df6ba</td>\n",
       "      <td>Tuesday</td>\n",
       "      <td>2019-10-29</td>\n",
       "      <td>07:06:41</td>\n",
       "      <td>100</td>\n",
       "      <td>electronics</td>\n",
       "      <td>smartphone</td>\n",
       "    </tr>\n",
       "  </tbody>\n",
       "</table>\n",
       "</div>"
      ],
      "text/plain": [
       "         event_type  product_id  ...     category     product\n",
       "39054315       view     1004767  ...  electronics  smartphone\n",
       "\n",
       "[1 rows x 13 columns]"
      ]
     },
     "execution_count": 94,
     "metadata": {
      "tags": []
     },
     "output_type": "execute_result"
    }
   ],
   "source": [
    "df_preprocessed.head(1)"
   ]
  },
  {
   "cell_type": "code",
   "execution_count": 99,
   "metadata": {
    "colab": {
     "base_uri": "https://localhost:8080/"
    },
    "id": "x3nQBOINByBp",
    "outputId": "9de2f449-ae8f-4902-d269-be9da84bdb63"
   },
   "outputs": [
    {
     "data": {
      "text/plain": [
       "1616542"
      ]
     },
     "execution_count": 99,
     "metadata": {
      "tags": []
     },
     "output_type": "execute_result"
    }
   ],
   "source": [
    "df_preprocessed['user_session'].nunique()"
   ]
  },
  {
   "cell_type": "code",
   "execution_count": 101,
   "metadata": {
    "id": "CWATeenXBx90"
   },
   "outputs": [],
   "source": [
    "df_carpur = df_preprocessed[~(df_preprocessed['event_type']== 'view')].copy()"
   ]
  },
  {
   "cell_type": "code",
   "execution_count": 126,
   "metadata": {
    "colab": {
     "base_uri": "https://localhost:8080/",
     "height": 151
    },
    "id": "uc5oSXEKFOH5",
    "outputId": "eba30e3f-7073-4d5c-fc6b-8605daceea73"
   },
   "outputs": [
    {
     "data": {
      "text/html": [
       "<div>\n",
       "<style scoped>\n",
       "    .dataframe tbody tr th:only-of-type {\n",
       "        vertical-align: middle;\n",
       "    }\n",
       "\n",
       "    .dataframe tbody tr th {\n",
       "        vertical-align: top;\n",
       "    }\n",
       "\n",
       "    .dataframe thead th {\n",
       "        text-align: right;\n",
       "    }\n",
       "</style>\n",
       "<table border=\"1\" class=\"dataframe\">\n",
       "  <thead>\n",
       "    <tr style=\"text-align: right;\">\n",
       "      <th></th>\n",
       "      <th>event_type</th>\n",
       "      <th>product_id</th>\n",
       "      <th>category_id</th>\n",
       "      <th>brand</th>\n",
       "      <th>price</th>\n",
       "      <th>user_id</th>\n",
       "      <th>user_session</th>\n",
       "      <th>day_of_week</th>\n",
       "      <th>date</th>\n",
       "      <th>time</th>\n",
       "      <th>cat_code</th>\n",
       "      <th>category</th>\n",
       "      <th>product</th>\n",
       "    </tr>\n",
       "  </thead>\n",
       "  <tbody>\n",
       "    <tr>\n",
       "      <th>35358537</th>\n",
       "      <td>cart</td>\n",
       "      <td>1004833</td>\n",
       "      <td>2053013555631882655</td>\n",
       "      <td>samsung</td>\n",
       "      <td>170.140</td>\n",
       "      <td>563310678</td>\n",
       "      <td>b1202966-f49f-4b96-b6c8-8890eb897d42</td>\n",
       "      <td>Saturday</td>\n",
       "      <td>2019-10-26</td>\n",
       "      <td>10:35:42</td>\n",
       "      <td>100</td>\n",
       "      <td>electronics</td>\n",
       "      <td>smartphone</td>\n",
       "    </tr>\n",
       "  </tbody>\n",
       "</table>\n",
       "</div>"
      ],
      "text/plain": [
       "         event_type  product_id  ...     category     product\n",
       "35358537       cart     1004833  ...  electronics  smartphone\n",
       "\n",
       "[1 rows x 13 columns]"
      ]
     },
     "execution_count": 126,
     "metadata": {
      "tags": []
     },
     "output_type": "execute_result"
    }
   ],
   "source": [
    "df_carpur.head(1)"
   ]
  },
  {
   "cell_type": "code",
   "execution_count": 139,
   "metadata": {
    "colab": {
     "base_uri": "https://localhost:8080/"
    },
    "id": "0WH_FUgZEkoC",
    "outputId": "c6309204-f0c7-4fa5-9bd5-c4ee85d8714b"
   },
   "outputs": [
    {
     "data": {
      "text/plain": [
       "(400941, 13)"
      ]
     },
     "execution_count": 139,
     "metadata": {
      "tags": []
     },
     "output_type": "execute_result"
    }
   ],
   "source": [
    "df_carpur.shape"
   ]
  },
  {
   "cell_type": "code",
   "execution_count": 115,
   "metadata": {
    "colab": {
     "base_uri": "https://localhost:8080/"
    },
    "id": "Mb-pT1T2Bx6r",
    "outputId": "b263887a-fc4a-4cc0-8bc6-239963e96acc"
   },
   "outputs": [
    {
     "data": {
      "text/plain": [
       "user_session                          event_type\n",
       "000001fd-1f89-45e8-a3ce-fe3218cabfad  cart          4\n",
       "                                      purchase      1\n",
       "00005b76-13ba-4afe-b80d-2f2b337d3e92  purchase      2\n",
       "000081ea-9376-4eb8-a69b-0b592765a21d  cart          1\n",
       "                                      purchase      1\n",
       "                                                   ..\n",
       "fffe8505-f670-4750-a4cf-3ca24196f316  purchase      1\n",
       "ffff3f80-9db8-451e-8ee1-65bd1401283c  cart          1\n",
       "                                      purchase      1\n",
       "ffffa654-87e2-3a83-1a87-33c0480c3e36  cart          1\n",
       "                                      purchase      1\n",
       "Name: event_type, Length: 304322, dtype: int64"
      ]
     },
     "execution_count": 115,
     "metadata": {
      "tags": []
     },
     "output_type": "execute_result"
    }
   ],
   "source": [
    "df_carpur.groupby('user_session')['event_type'].value_counts()"
   ]
  },
  {
   "cell_type": "code",
   "execution_count": 118,
   "metadata": {
    "colab": {
     "base_uri": "https://localhost:8080/",
     "height": 446
    },
    "id": "JDmNpl1HBx3b",
    "outputId": "eed33445-ac27-4312-8e2c-c9848456d2d2"
   },
   "outputs": [
    {
     "data": {
      "text/html": [
       "<div>\n",
       "<style scoped>\n",
       "    .dataframe tbody tr th:only-of-type {\n",
       "        vertical-align: middle;\n",
       "    }\n",
       "\n",
       "    .dataframe tbody tr th {\n",
       "        vertical-align: top;\n",
       "    }\n",
       "\n",
       "    .dataframe thead th {\n",
       "        text-align: right;\n",
       "    }\n",
       "</style>\n",
       "<table border=\"1\" class=\"dataframe\">\n",
       "  <thead>\n",
       "    <tr style=\"text-align: right;\">\n",
       "      <th>event_type</th>\n",
       "      <th>cart</th>\n",
       "      <th>purchase</th>\n",
       "    </tr>\n",
       "    <tr>\n",
       "      <th>user_session</th>\n",
       "      <th></th>\n",
       "      <th></th>\n",
       "    </tr>\n",
       "  </thead>\n",
       "  <tbody>\n",
       "    <tr>\n",
       "      <th>000001fd-1f89-45e8-a3ce-fe3218cabfad</th>\n",
       "      <td>4</td>\n",
       "      <td>1</td>\n",
       "    </tr>\n",
       "    <tr>\n",
       "      <th>00005b76-13ba-4afe-b80d-2f2b337d3e92</th>\n",
       "      <td>0</td>\n",
       "      <td>2</td>\n",
       "    </tr>\n",
       "    <tr>\n",
       "      <th>000081ea-9376-4eb8-a69b-0b592765a21d</th>\n",
       "      <td>1</td>\n",
       "      <td>1</td>\n",
       "    </tr>\n",
       "    <tr>\n",
       "      <th>0000be48-eb0e-43e6-8b78-25f8bd078926</th>\n",
       "      <td>0</td>\n",
       "      <td>1</td>\n",
       "    </tr>\n",
       "    <tr>\n",
       "      <th>0000de39-dc74-414d-8da6-83ad56135bf5</th>\n",
       "      <td>4</td>\n",
       "      <td>4</td>\n",
       "    </tr>\n",
       "    <tr>\n",
       "      <th>...</th>\n",
       "      <td>...</td>\n",
       "      <td>...</td>\n",
       "    </tr>\n",
       "    <tr>\n",
       "      <th>fffe37ac-daef-4b95-adea-2c3fc53d8832</th>\n",
       "      <td>0</td>\n",
       "      <td>1</td>\n",
       "    </tr>\n",
       "    <tr>\n",
       "      <th>fffe5985-76da-4a0b-8f17-8e225efa4142</th>\n",
       "      <td>2</td>\n",
       "      <td>1</td>\n",
       "    </tr>\n",
       "    <tr>\n",
       "      <th>fffe8505-f670-4750-a4cf-3ca24196f316</th>\n",
       "      <td>2</td>\n",
       "      <td>1</td>\n",
       "    </tr>\n",
       "    <tr>\n",
       "      <th>ffff3f80-9db8-451e-8ee1-65bd1401283c</th>\n",
       "      <td>1</td>\n",
       "      <td>1</td>\n",
       "    </tr>\n",
       "    <tr>\n",
       "      <th>ffffa654-87e2-3a83-1a87-33c0480c3e36</th>\n",
       "      <td>1</td>\n",
       "      <td>1</td>\n",
       "    </tr>\n",
       "  </tbody>\n",
       "</table>\n",
       "<p>224963 rows × 2 columns</p>\n",
       "</div>"
      ],
      "text/plain": [
       "event_type                            cart  purchase\n",
       "user_session                                        \n",
       "000001fd-1f89-45e8-a3ce-fe3218cabfad     4         1\n",
       "00005b76-13ba-4afe-b80d-2f2b337d3e92     0         2\n",
       "000081ea-9376-4eb8-a69b-0b592765a21d     1         1\n",
       "0000be48-eb0e-43e6-8b78-25f8bd078926     0         1\n",
       "0000de39-dc74-414d-8da6-83ad56135bf5     4         4\n",
       "...                                    ...       ...\n",
       "fffe37ac-daef-4b95-adea-2c3fc53d8832     0         1\n",
       "fffe5985-76da-4a0b-8f17-8e225efa4142     2         1\n",
       "fffe8505-f670-4750-a4cf-3ca24196f316     2         1\n",
       "ffff3f80-9db8-451e-8ee1-65bd1401283c     1         1\n",
       "ffffa654-87e2-3a83-1a87-33c0480c3e36     1         1\n",
       "\n",
       "[224963 rows x 2 columns]"
      ]
     },
     "execution_count": 118,
     "metadata": {
      "tags": []
     },
     "output_type": "execute_result"
    }
   ],
   "source": [
    "abandono = pd.crosstab(df_carpur['user_session'],df_preprocessed['event_type'])\n",
    "abandono"
   ]
  },
  {
   "cell_type": "code",
   "execution_count": 120,
   "metadata": {
    "colab": {
     "base_uri": "https://localhost:8080/"
    },
    "id": "8INjW50pBx0q",
    "outputId": "10ebe611-7b38-4d7c-f757-d588c7e89084"
   },
   "outputs": [
    {
     "data": {
      "text/plain": [
       "61629"
      ]
     },
     "execution_count": 120,
     "metadata": {
      "tags": []
     },
     "output_type": "execute_result"
    }
   ],
   "source": [
    "(abandono['purchase']==0).sum()"
   ]
  },
  {
   "cell_type": "code",
   "execution_count": 125,
   "metadata": {
    "colab": {
     "base_uri": "https://localhost:8080/",
     "height": 446
    },
    "id": "3cdlKlrrHA5A",
    "outputId": "c01c607e-1f12-43cc-d103-f52326090493"
   },
   "outputs": [
    {
     "data": {
      "text/html": [
       "<div>\n",
       "<style scoped>\n",
       "    .dataframe tbody tr th:only-of-type {\n",
       "        vertical-align: middle;\n",
       "    }\n",
       "\n",
       "    .dataframe tbody tr th {\n",
       "        vertical-align: top;\n",
       "    }\n",
       "\n",
       "    .dataframe thead th {\n",
       "        text-align: right;\n",
       "    }\n",
       "</style>\n",
       "<table border=\"1\" class=\"dataframe\">\n",
       "  <thead>\n",
       "    <tr style=\"text-align: right;\">\n",
       "      <th>event_type</th>\n",
       "      <th>cart</th>\n",
       "      <th>purchase</th>\n",
       "    </tr>\n",
       "    <tr>\n",
       "      <th>user_session</th>\n",
       "      <th></th>\n",
       "      <th></th>\n",
       "    </tr>\n",
       "  </thead>\n",
       "  <tbody>\n",
       "    <tr>\n",
       "      <th>00029324-8160-401d-9862-437c547972c8</th>\n",
       "      <td>1</td>\n",
       "      <td>0</td>\n",
       "    </tr>\n",
       "    <tr>\n",
       "      <th>0002d833-2a89-40a9-b38d-b91ef248574c</th>\n",
       "      <td>1</td>\n",
       "      <td>0</td>\n",
       "    </tr>\n",
       "    <tr>\n",
       "      <th>0004974b-37a8-4c85-93d1-5730a7e2ba55</th>\n",
       "      <td>1</td>\n",
       "      <td>0</td>\n",
       "    </tr>\n",
       "    <tr>\n",
       "      <th>00066553-b673-466d-ab7a-15befe527b4f</th>\n",
       "      <td>1</td>\n",
       "      <td>0</td>\n",
       "    </tr>\n",
       "    <tr>\n",
       "      <th>00069198-c908-4b6e-83d5-8c8292d327ad</th>\n",
       "      <td>1</td>\n",
       "      <td>0</td>\n",
       "    </tr>\n",
       "    <tr>\n",
       "      <th>...</th>\n",
       "      <td>...</td>\n",
       "      <td>...</td>\n",
       "    </tr>\n",
       "    <tr>\n",
       "      <th>fff7eb93-c543-4176-bcb5-74ff6cee1c94</th>\n",
       "      <td>1</td>\n",
       "      <td>0</td>\n",
       "    </tr>\n",
       "    <tr>\n",
       "      <th>fff7fbe0-7d49-449b-8fdf-fd8f59c5e2ac</th>\n",
       "      <td>1</td>\n",
       "      <td>0</td>\n",
       "    </tr>\n",
       "    <tr>\n",
       "      <th>fffb043a-c335-4900-a259-a6b9a6f703de</th>\n",
       "      <td>1</td>\n",
       "      <td>0</td>\n",
       "    </tr>\n",
       "    <tr>\n",
       "      <th>fffc48ec-7e1e-4cb6-b68c-c7dde3a43b2a</th>\n",
       "      <td>1</td>\n",
       "      <td>0</td>\n",
       "    </tr>\n",
       "    <tr>\n",
       "      <th>fffde181-3f47-49ef-b00b-267579416686</th>\n",
       "      <td>1</td>\n",
       "      <td>0</td>\n",
       "    </tr>\n",
       "  </tbody>\n",
       "</table>\n",
       "<p>61629 rows × 2 columns</p>\n",
       "</div>"
      ],
      "text/plain": [
       "event_type                            cart  purchase\n",
       "user_session                                        \n",
       "00029324-8160-401d-9862-437c547972c8     1         0\n",
       "0002d833-2a89-40a9-b38d-b91ef248574c     1         0\n",
       "0004974b-37a8-4c85-93d1-5730a7e2ba55     1         0\n",
       "00066553-b673-466d-ab7a-15befe527b4f     1         0\n",
       "00069198-c908-4b6e-83d5-8c8292d327ad     1         0\n",
       "...                                    ...       ...\n",
       "fff7eb93-c543-4176-bcb5-74ff6cee1c94     1         0\n",
       "fff7fbe0-7d49-449b-8fdf-fd8f59c5e2ac     1         0\n",
       "fffb043a-c335-4900-a259-a6b9a6f703de     1         0\n",
       "fffc48ec-7e1e-4cb6-b68c-c7dde3a43b2a     1         0\n",
       "fffde181-3f47-49ef-b00b-267579416686     1         0\n",
       "\n",
       "[61629 rows x 2 columns]"
      ]
     },
     "execution_count": 125,
     "metadata": {
      "tags": []
     },
     "output_type": "execute_result"
    }
   ],
   "source": [
    "abandono[abandono['purchase']==0]"
   ]
  },
  {
   "cell_type": "code",
   "execution_count": 129,
   "metadata": {
    "id": "LJNbMrc2IOFz"
   },
   "outputs": [],
   "source": [
    "sesion_abandono = abandono[abandono['purchase']==0].index.to_list()"
   ]
  },
  {
   "cell_type": "code",
   "execution_count": 143,
   "metadata": {
    "colab": {
     "base_uri": "https://localhost:8080/"
    },
    "id": "fXuGj0GlJz1p",
    "outputId": "f8082264-d445-4f3c-9785-df111ca638b4"
   },
   "outputs": [
    {
     "data": {
      "text/plain": [
       "61629"
      ]
     },
     "execution_count": 143,
     "metadata": {
      "tags": []
     },
     "output_type": "execute_result"
    }
   ],
   "source": [
    "len(sesion_abandono)"
   ]
  },
  {
   "cell_type": "code",
   "execution_count": 144,
   "metadata": {
    "colab": {
     "base_uri": "https://localhost:8080/",
     "height": 151
    },
    "id": "bvGCCbDTJYrK",
    "outputId": "e9dfcf10-5a0b-452a-84e2-df02cba8082a"
   },
   "outputs": [
    {
     "data": {
      "text/html": [
       "<div>\n",
       "<style scoped>\n",
       "    .dataframe tbody tr th:only-of-type {\n",
       "        vertical-align: middle;\n",
       "    }\n",
       "\n",
       "    .dataframe tbody tr th {\n",
       "        vertical-align: top;\n",
       "    }\n",
       "\n",
       "    .dataframe thead th {\n",
       "        text-align: right;\n",
       "    }\n",
       "</style>\n",
       "<table border=\"1\" class=\"dataframe\">\n",
       "  <thead>\n",
       "    <tr style=\"text-align: right;\">\n",
       "      <th></th>\n",
       "      <th>event_type</th>\n",
       "      <th>product_id</th>\n",
       "      <th>category_id</th>\n",
       "      <th>brand</th>\n",
       "      <th>price</th>\n",
       "      <th>user_id</th>\n",
       "      <th>user_session</th>\n",
       "      <th>day_of_week</th>\n",
       "      <th>date</th>\n",
       "      <th>time</th>\n",
       "      <th>cat_code</th>\n",
       "      <th>category</th>\n",
       "      <th>product</th>\n",
       "    </tr>\n",
       "  </thead>\n",
       "  <tbody>\n",
       "    <tr>\n",
       "      <th>35358537</th>\n",
       "      <td>cart</td>\n",
       "      <td>1004833</td>\n",
       "      <td>2053013555631882655</td>\n",
       "      <td>samsung</td>\n",
       "      <td>170.140</td>\n",
       "      <td>563310678</td>\n",
       "      <td>b1202966-f49f-4b96-b6c8-8890eb897d42</td>\n",
       "      <td>Saturday</td>\n",
       "      <td>2019-10-26</td>\n",
       "      <td>10:35:42</td>\n",
       "      <td>100</td>\n",
       "      <td>electronics</td>\n",
       "      <td>smartphone</td>\n",
       "    </tr>\n",
       "  </tbody>\n",
       "</table>\n",
       "</div>"
      ],
      "text/plain": [
       "         event_type  product_id  ...     category     product\n",
       "35358537       cart     1004833  ...  electronics  smartphone\n",
       "\n",
       "[1 rows x 13 columns]"
      ]
     },
     "execution_count": 144,
     "metadata": {
      "tags": []
     },
     "output_type": "execute_result"
    }
   ],
   "source": [
    "df_carpur[df_carpur['user_session'].isin(sesion_abandono)].head(1)"
   ]
  },
  {
   "cell_type": "code",
   "execution_count": 150,
   "metadata": {
    "colab": {
     "base_uri": "https://localhost:8080/"
    },
    "id": "niBEoOoPIb3_",
    "outputId": "4bf476bf-63a4-4098-f7e9-f304572b4c1b"
   },
   "outputs": [
    {
     "data": {
      "text/plain": [
       "48100"
      ]
     },
     "execution_count": 150,
     "metadata": {
      "tags": []
     },
     "output_type": "execute_result"
    }
   ],
   "source": [
    "abandonadores = df_carpur[df_carpur['user_session'].isin(sesion_abandono)]['user_id'].nunique()\n",
    "abandonadores"
   ]
  },
  {
   "cell_type": "code",
   "execution_count": 147,
   "metadata": {
    "id": "dpzNMPyPIb0J"
   },
   "outputs": [],
   "source": [
    "df_car = df_preprocessed[(df_preprocessed['event_type'] == 'cart')].copy()"
   ]
  },
  {
   "cell_type": "code",
   "execution_count": 152,
   "metadata": {
    "colab": {
     "base_uri": "https://localhost:8080/"
    },
    "id": "3skNtdggLUo0",
    "outputId": "98671c76-1f09-4015-d7ad-5996d9ef3aaf"
   },
   "outputs": [
    {
     "data": {
      "text/plain": [
       "83917"
      ]
     },
     "execution_count": 152,
     "metadata": {
      "tags": []
     },
     "output_type": "execute_result"
    }
   ],
   "source": [
    "total_carritos = df_car['user_id'].nunique()\n",
    "total_carritos"
   ]
  },
  {
   "cell_type": "code",
   "execution_count": 153,
   "metadata": {
    "colab": {
     "base_uri": "https://localhost:8080/"
    },
    "id": "3ZluLB8uLNEH",
    "outputId": "bf233693-0b2f-4957-bdc8-da1ce3c4bfe1"
   },
   "outputs": [
    {
     "data": {
      "text/plain": [
       "57.31854093926141"
      ]
     },
     "execution_count": 153,
     "metadata": {
      "tags": []
     },
     "output_type": "execute_result"
    }
   ],
   "source": [
    "# porcentaje de abandono de carritos\n",
    "abandonadores/total_carritos*100"
   ]
  },
  {
   "cell_type": "code",
   "execution_count": 123,
   "metadata": {
    "colab": {
     "base_uri": "https://localhost:8080/"
    },
    "id": "yE12eznpBxyU",
    "outputId": "2602c7d8-f63c-4f5c-dff6-76d6dcc8f5bc"
   },
   "outputs": [
    {
     "data": {
      "text/plain": [
       "102864"
      ]
     },
     "execution_count": 123,
     "metadata": {
      "tags": []
     },
     "output_type": "execute_result"
    }
   ],
   "source": [
    "# (abandono['cart']==1).sum()"
   ]
  },
  {
   "cell_type": "code",
   "execution_count": null,
   "metadata": {
    "id": "MpH7mQyVBxvf"
   },
   "outputs": [],
   "source": []
  },
  {
   "cell_type": "code",
   "execution_count": null,
   "metadata": {
    "id": "UKPqGlQ0BxtH"
   },
   "outputs": [],
   "source": []
  },
  {
   "cell_type": "code",
   "execution_count": null,
   "metadata": {
    "id": "FGTEBz3WBxqP"
   },
   "outputs": [],
   "source": []
  },
  {
   "cell_type": "code",
   "execution_count": null,
   "metadata": {
    "id": "XMpTqJUwBxnn"
   },
   "outputs": [],
   "source": []
  },
  {
   "cell_type": "code",
   "execution_count": null,
   "metadata": {
    "id": "u1WeyEJIBxkp"
   },
   "outputs": [],
   "source": []
  },
  {
   "cell_type": "code",
   "execution_count": null,
   "metadata": {
    "id": "kakIzZr4Bxgw"
   },
   "outputs": [],
   "source": []
  },
  {
   "cell_type": "code",
   "execution_count": null,
   "metadata": {
    "colab": {
     "base_uri": "https://localhost:8080/"
    },
    "id": "4jMA8zs9c2pf",
    "outputId": "e49f60d9-4641-48b8-9a68-2513da7cc91f"
   },
   "outputs": [
    {
     "data": {
      "text/plain": [
       "array(['computers.peripherals.printer', 'electronics.clocks',\n",
       "       'computers.desktop', 'electronics.tablet',\n",
       "       'electronics.smartphone', 'computers.notebook',\n",
       "       'electronics.audio.acoustic', 'sport.bicycle',\n",
       "       'furniture.kitchen.table', 'electronics.video.tv',\n",
       "       'appliances.kitchen.oven', 'appliances.kitchen.washer',\n",
       "       'appliances.kitchen.coffee_machine', 'kids.carriage',\n",
       "       'appliances.environment.air_conditioner',\n",
       "       'furniture.living_room.cabinet', 'construction.tools.generator',\n",
       "       'construction.tools.pump', 'computers.peripherals.monitor',\n",
       "       'computers.components.videocards', 'furniture.living_room.sofa',\n",
       "       'electronics.camera.video', 'electronics.audio.music_tools.piano',\n",
       "       'appliances.kitchen.refrigerators', 'electronics.video.projector',\n",
       "       'sport.trainer', 'appliances.iron',\n",
       "       'appliances.kitchen.steam_cooker', 'appliances.sewing_machine',\n",
       "       'furniture.bathroom.toilet', 'electronics.camera.photo',\n",
       "       'kids.skates', 'auto.accessories.compressor',\n",
       "       'furniture.universal.light', 'construction.tools.welding',\n",
       "       'computers.components.cpu', 'furniture.bedroom.bed',\n",
       "       'appliances.kitchen.hood', 'appliances.kitchen.hob',\n",
       "       'construction.tools.drill', 'country_yard.lawn_mower',\n",
       "       'construction.tools.saw', 'electronics.audio.microphone',\n",
       "       'appliances.kitchen.dishwasher', 'construction.components.faucet',\n",
       "       'furniture.living_room.chair',\n",
       "       'appliances.environment.water_heater'], dtype=object)"
      ]
     },
     "execution_count": 73,
     "metadata": {
      "tags": []
     },
     "output_type": "execute_result"
    }
   ],
   "source": [
    "df_preprocessed[df_preprocessed['price'] >= 1900]['category_code'].unique()"
   ]
  },
  {
   "cell_type": "code",
   "execution_count": null,
   "metadata": {
    "id": "HZL4oGPRhr2_"
   },
   "outputs": [],
   "source": []
  }
 ],
 "metadata": {
  "colab": {
   "collapsed_sections": [],
   "name": "TP modulo 1 diplodatos.ipynb",
   "provenance": []
  },
  "kernelspec": {
   "display_name": "Python 3",
   "language": "python",
   "name": "python3"
  },
  "language_info": {
   "codemirror_mode": {
    "name": "ipython",
    "version": 3
   },
   "file_extension": ".py",
   "mimetype": "text/x-python",
   "name": "python",
   "nbconvert_exporter": "python",
   "pygments_lexer": "ipython3",
   "version": "3.8.10"
  }
 },
 "nbformat": 4,
 "nbformat_minor": 1
}
